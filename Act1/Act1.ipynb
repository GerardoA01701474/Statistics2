{
 "cells": [
  {
   "cell_type": "code",
   "execution_count": 245,
   "metadata": {},
   "outputs": [],
   "source": [
    "import pandas as pd\n",
    "import matplotlib\n",
    "import matplotlib.pyplot as plt\n",
    "import seaborn as sns\n",
    "import numpy as np\n",
    "#import warnings\n",
    "#warnings.filterwarnings('ignore')"
   ]
  },
  {
   "cell_type": "code",
   "execution_count": 246,
   "metadata": {},
   "outputs": [],
   "source": [
    "df_data = pd.read_csv(\"us2022q2a.csv\")\n",
    "df_firms = pd.read_csv(\"usfirms2022.csv\")\n"
   ]
  },
  {
   "cell_type": "code",
   "execution_count": 247,
   "metadata": {},
   "outputs": [],
   "source": [
    "df_firms.rename(columns = {'Ticker':'firm'}, inplace = True)\n",
    "df_merged = pd.merge(df_data, df_firms, on=\"firm\", how=\"left\")\n",
    "df_merged['qdate'] = pd.PeriodIndex(df_merged['q'], freq=\"Q\")\n",
    "df_merged.set_index(['firm','qdate'],inplace=True)\n",
    "df_merged.drop(columns=[\"Name\",\"N\",\"Class\",\"Country\\nof Origin\",\n",
    "                        \"Type of Asset\",\"Exchange / Src\",\"Sector NAICS\\nlast available\",\"partind\",'stockholderequity','Sector\\nEconomatica'], inplace=True)"
   ]
  },
  {
   "cell_type": "code",
   "execution_count": 248,
   "metadata": {},
   "outputs": [],
   "source": [
    "aux = df_merged['q'] == '2022q1'\n",
    "aux\n",
    "df = df_merged[aux]\n"
   ]
  },
  {
   "cell_type": "code",
   "execution_count": 249,
   "metadata": {},
   "outputs": [],
   "source": [
    "df = df[df['Sector NAICS\\nlevel 1'].isin(['Finance and Insurance', 'Real Estate and Rental and Leasing'])]"
   ]
  },
  {
   "cell_type": "code",
   "execution_count": 250,
   "metadata": {},
   "outputs": [],
   "source": [
    "df['BookVal'] = df['totalassets'] - df['totalliabilities']\n",
    "df['MarketVal'] = df['originalprice'] * df['sharesoutstanding']\n",
    "df['ebit'] = df['revenue'] - df['cogs'] - df['sgae'] - df['otheropexp']\n",
    "df['NetIncome'] = df['ebit'] - df['finexp'] - df['incometax'] + df['extraincome']\n",
    "\n",
    "df['ProfMar'] = df['NetIncome'] / df['revenue']\n",
    "df['EPS'] = df['NetIncome'] / df['sharesoutstanding']\n",
    "df['EPSP'] = df['EPS'] / df['originalprice']"
   ]
  },
  {
   "cell_type": "code",
   "execution_count": 251,
   "metadata": {},
   "outputs": [],
   "source": [
    "\n",
    "df['shrt_fin_lev'] = df['shortdebt'] / df['totalassets']\n",
    "df['lng_fin_lev'] = df['longdebt'] / df['totalassets']\n",
    "df['op_profit_mrgn'] = df['ebit'] / df['revenue']\n",
    "df['R'] = np.log(df['adjprice']) - np.log(df['adjprice'].shift(4))"
   ]
  },
  {
   "cell_type": "code",
   "execution_count": 252,
   "metadata": {},
   "outputs": [
    {
     "data": {
      "text/html": [
       "<div>\n",
       "<style scoped>\n",
       "    .dataframe tbody tr th:only-of-type {\n",
       "        vertical-align: middle;\n",
       "    }\n",
       "\n",
       "    .dataframe tbody tr th {\n",
       "        vertical-align: top;\n",
       "    }\n",
       "\n",
       "    .dataframe thead th {\n",
       "        text-align: right;\n",
       "    }\n",
       "</style>\n",
       "<table border=\"1\" class=\"dataframe\">\n",
       "  <thead>\n",
       "    <tr style=\"text-align: right;\">\n",
       "      <th></th>\n",
       "      <th>revenue</th>\n",
       "      <th>cogs</th>\n",
       "      <th>sgae</th>\n",
       "      <th>otheropexp</th>\n",
       "      <th>extraincome</th>\n",
       "      <th>finexp</th>\n",
       "      <th>incometax</th>\n",
       "      <th>totalassets</th>\n",
       "      <th>totalliabilities</th>\n",
       "      <th>shortdebt</th>\n",
       "      <th>...</th>\n",
       "      <th>MarketVal</th>\n",
       "      <th>ebit</th>\n",
       "      <th>NetIncome</th>\n",
       "      <th>ProfMar</th>\n",
       "      <th>EPS</th>\n",
       "      <th>EPSP</th>\n",
       "      <th>shrt_fin_lev</th>\n",
       "      <th>lng_fin_lev</th>\n",
       "      <th>op_profit_mrgn</th>\n",
       "      <th>R</th>\n",
       "    </tr>\n",
       "  </thead>\n",
       "  <tbody>\n",
       "    <tr>\n",
       "      <th>count</th>\n",
       "      <td>7.460000e+02</td>\n",
       "      <td>7.460000e+02</td>\n",
       "      <td>7.460000e+02</td>\n",
       "      <td>7.460000e+02</td>\n",
       "      <td>7.460000e+02</td>\n",
       "      <td>7.460000e+02</td>\n",
       "      <td>7.460000e+02</td>\n",
       "      <td>7.480000e+02</td>\n",
       "      <td>7.480000e+02</td>\n",
       "      <td>1.820000e+02</td>\n",
       "      <td>...</td>\n",
       "      <td>7.610000e+02</td>\n",
       "      <td>7.460000e+02</td>\n",
       "      <td>7.460000e+02</td>\n",
       "      <td>746.000000</td>\n",
       "      <td>745.000000</td>\n",
       "      <td>745.000000</td>\n",
       "      <td>182.000000</td>\n",
       "      <td>748.000000</td>\n",
       "      <td>745.000000</td>\n",
       "      <td>757.000000</td>\n",
       "    </tr>\n",
       "    <tr>\n",
       "      <th>mean</th>\n",
       "      <td>9.119072e+05</td>\n",
       "      <td>3.133992e+05</td>\n",
       "      <td>3.366513e+05</td>\n",
       "      <td>1.614837e+04</td>\n",
       "      <td>-5.589958e+04</td>\n",
       "      <td>8.030914e+03</td>\n",
       "      <td>3.319493e+04</td>\n",
       "      <td>4.391185e+07</td>\n",
       "      <td>3.873140e+07</td>\n",
       "      <td>8.895004e+05</td>\n",
       "      <td>...</td>\n",
       "      <td>9.481661e+06</td>\n",
       "      <td>2.457084e+05</td>\n",
       "      <td>1.485830e+05</td>\n",
       "      <td>NaN</td>\n",
       "      <td>0.866146</td>\n",
       "      <td>0.009333</td>\n",
       "      <td>0.068093</td>\n",
       "      <td>0.181348</td>\n",
       "      <td>-inf</td>\n",
       "      <td>0.006756</td>\n",
       "    </tr>\n",
       "    <tr>\n",
       "      <th>std</th>\n",
       "      <td>4.291789e+06</td>\n",
       "      <td>3.405313e+06</td>\n",
       "      <td>1.295260e+06</td>\n",
       "      <td>1.538297e+05</td>\n",
       "      <td>4.220885e+05</td>\n",
       "      <td>6.074566e+04</td>\n",
       "      <td>1.303064e+05</td>\n",
       "      <td>2.401848e+08</td>\n",
       "      <td>2.211812e+08</td>\n",
       "      <td>3.794054e+06</td>\n",
       "      <td>...</td>\n",
       "      <td>3.217756e+07</td>\n",
       "      <td>1.005476e+06</td>\n",
       "      <td>5.980922e+05</td>\n",
       "      <td>NaN</td>\n",
       "      <td>1.792575</td>\n",
       "      <td>0.095545</td>\n",
       "      <td>0.138864</td>\n",
       "      <td>0.232306</td>\n",
       "      <td>NaN</td>\n",
       "      <td>1.575494</td>\n",
       "    </tr>\n",
       "    <tr>\n",
       "      <th>min</th>\n",
       "      <td>-6.820000e+02</td>\n",
       "      <td>-1.100000e+04</td>\n",
       "      <td>-5.735160e+05</td>\n",
       "      <td>-7.950410e+05</td>\n",
       "      <td>-5.624000e+06</td>\n",
       "      <td>-1.053553e+06</td>\n",
       "      <td>-1.797860e+05</td>\n",
       "      <td>2.339234e+03</td>\n",
       "      <td>5.000000e+00</td>\n",
       "      <td>0.000000e+00</td>\n",
       "      <td>...</td>\n",
       "      <td>1.554325e+04</td>\n",
       "      <td>-5.544630e+05</td>\n",
       "      <td>-6.510000e+05</td>\n",
       "      <td>-inf</td>\n",
       "      <td>-4.430385</td>\n",
       "      <td>-1.864448</td>\n",
       "      <td>0.000000</td>\n",
       "      <td>0.000000</td>\n",
       "      <td>-inf</td>\n",
       "      <td>-5.300913</td>\n",
       "    </tr>\n",
       "    <tr>\n",
       "      <th>25%</th>\n",
       "      <td>2.865022e+04</td>\n",
       "      <td>0.000000e+00</td>\n",
       "      <td>0.000000e+00</td>\n",
       "      <td>0.000000e+00</td>\n",
       "      <td>-2.188175e+04</td>\n",
       "      <td>0.000000e+00</td>\n",
       "      <td>1.950000e+01</td>\n",
       "      <td>1.755401e+06</td>\n",
       "      <td>1.223579e+06</td>\n",
       "      <td>0.000000e+00</td>\n",
       "      <td>...</td>\n",
       "      <td>3.805496e+05</td>\n",
       "      <td>1.043492e+04</td>\n",
       "      <td>2.977849e+03</td>\n",
       "      <td>0.069168</td>\n",
       "      <td>0.138448</td>\n",
       "      <td>0.004697</td>\n",
       "      <td>0.000000</td>\n",
       "      <td>0.014548</td>\n",
       "      <td>0.147910</td>\n",
       "      <td>-0.962847</td>\n",
       "    </tr>\n",
       "    <tr>\n",
       "      <th>50%</th>\n",
       "      <td>1.013940e+05</td>\n",
       "      <td>6.485000e+02</td>\n",
       "      <td>3.816500e+03</td>\n",
       "      <td>0.000000e+00</td>\n",
       "      <td>-5.043000e+03</td>\n",
       "      <td>0.000000e+00</td>\n",
       "      <td>2.310000e+03</td>\n",
       "      <td>4.984920e+06</td>\n",
       "      <td>3.536338e+06</td>\n",
       "      <td>1.807950e+04</td>\n",
       "      <td>...</td>\n",
       "      <td>1.510027e+06</td>\n",
       "      <td>3.857750e+04</td>\n",
       "      <td>1.739250e+04</td>\n",
       "      <td>0.243367</td>\n",
       "      <td>0.514355</td>\n",
       "      <td>0.015556</td>\n",
       "      <td>0.009108</td>\n",
       "      <td>0.056035</td>\n",
       "      <td>0.517978</td>\n",
       "      <td>0.051601</td>\n",
       "    </tr>\n",
       "    <tr>\n",
       "      <th>75%</th>\n",
       "      <td>3.495750e+05</td>\n",
       "      <td>5.802750e+03</td>\n",
       "      <td>1.413708e+05</td>\n",
       "      <td>0.000000e+00</td>\n",
       "      <td>0.000000e+00</td>\n",
       "      <td>4.778000e+03</td>\n",
       "      <td>1.324850e+04</td>\n",
       "      <td>1.525270e+07</td>\n",
       "      <td>1.136569e+07</td>\n",
       "      <td>2.186235e+05</td>\n",
       "      <td>...</td>\n",
       "      <td>5.378227e+06</td>\n",
       "      <td>1.281018e+05</td>\n",
       "      <td>6.515350e+04</td>\n",
       "      <td>0.388899</td>\n",
       "      <td>0.999123</td>\n",
       "      <td>0.023996</td>\n",
       "      <td>0.050004</td>\n",
       "      <td>0.343164</td>\n",
       "      <td>0.927075</td>\n",
       "      <td>0.964230</td>\n",
       "    </tr>\n",
       "    <tr>\n",
       "      <th>max</th>\n",
       "      <td>8.014900e+07</td>\n",
       "      <td>7.319900e+07</td>\n",
       "      <td>1.504100e+07</td>\n",
       "      <td>3.006000e+06</td>\n",
       "      <td>2.829000e+06</td>\n",
       "      <td>4.330000e+05</td>\n",
       "      <td>1.781000e+06</td>\n",
       "      <td>3.954687e+09</td>\n",
       "      <td>3.668788e+09</td>\n",
       "      <td>4.471500e+07</td>\n",
       "      <td>...</td>\n",
       "      <td>4.798303e+08</td>\n",
       "      <td>1.387200e+07</td>\n",
       "      <td>8.282000e+06</td>\n",
       "      <td>inf</td>\n",
       "      <td>16.960636</td>\n",
       "      <td>1.030601</td>\n",
       "      <td>0.673480</td>\n",
       "      <td>1.382343</td>\n",
       "      <td>29.146628</td>\n",
       "      <td>5.627776</td>\n",
       "    </tr>\n",
       "  </tbody>\n",
       "</table>\n",
       "<p>8 rows × 28 columns</p>\n",
       "</div>"
      ],
      "text/plain": [
       "            revenue          cogs          sgae    otheropexp   extraincome  \\\n",
       "count  7.460000e+02  7.460000e+02  7.460000e+02  7.460000e+02  7.460000e+02   \n",
       "mean   9.119072e+05  3.133992e+05  3.366513e+05  1.614837e+04 -5.589958e+04   \n",
       "std    4.291789e+06  3.405313e+06  1.295260e+06  1.538297e+05  4.220885e+05   \n",
       "min   -6.820000e+02 -1.100000e+04 -5.735160e+05 -7.950410e+05 -5.624000e+06   \n",
       "25%    2.865022e+04  0.000000e+00  0.000000e+00  0.000000e+00 -2.188175e+04   \n",
       "50%    1.013940e+05  6.485000e+02  3.816500e+03  0.000000e+00 -5.043000e+03   \n",
       "75%    3.495750e+05  5.802750e+03  1.413708e+05  0.000000e+00  0.000000e+00   \n",
       "max    8.014900e+07  7.319900e+07  1.504100e+07  3.006000e+06  2.829000e+06   \n",
       "\n",
       "             finexp     incometax   totalassets  totalliabilities  \\\n",
       "count  7.460000e+02  7.460000e+02  7.480000e+02      7.480000e+02   \n",
       "mean   8.030914e+03  3.319493e+04  4.391185e+07      3.873140e+07   \n",
       "std    6.074566e+04  1.303064e+05  2.401848e+08      2.211812e+08   \n",
       "min   -1.053553e+06 -1.797860e+05  2.339234e+03      5.000000e+00   \n",
       "25%    0.000000e+00  1.950000e+01  1.755401e+06      1.223579e+06   \n",
       "50%    0.000000e+00  2.310000e+03  4.984920e+06      3.536338e+06   \n",
       "75%    4.778000e+03  1.324850e+04  1.525270e+07      1.136569e+07   \n",
       "max    4.330000e+05  1.781000e+06  3.954687e+09      3.668788e+09   \n",
       "\n",
       "          shortdebt  ...     MarketVal          ebit     NetIncome  \\\n",
       "count  1.820000e+02  ...  7.610000e+02  7.460000e+02  7.460000e+02   \n",
       "mean   8.895004e+05  ...  9.481661e+06  2.457084e+05  1.485830e+05   \n",
       "std    3.794054e+06  ...  3.217756e+07  1.005476e+06  5.980922e+05   \n",
       "min    0.000000e+00  ...  1.554325e+04 -5.544630e+05 -6.510000e+05   \n",
       "25%    0.000000e+00  ...  3.805496e+05  1.043492e+04  2.977849e+03   \n",
       "50%    1.807950e+04  ...  1.510027e+06  3.857750e+04  1.739250e+04   \n",
       "75%    2.186235e+05  ...  5.378227e+06  1.281018e+05  6.515350e+04   \n",
       "max    4.471500e+07  ...  4.798303e+08  1.387200e+07  8.282000e+06   \n",
       "\n",
       "          ProfMar         EPS        EPSP  shrt_fin_lev  lng_fin_lev  \\\n",
       "count  746.000000  745.000000  745.000000    182.000000   748.000000   \n",
       "mean          NaN    0.866146    0.009333      0.068093     0.181348   \n",
       "std           NaN    1.792575    0.095545      0.138864     0.232306   \n",
       "min          -inf   -4.430385   -1.864448      0.000000     0.000000   \n",
       "25%      0.069168    0.138448    0.004697      0.000000     0.014548   \n",
       "50%      0.243367    0.514355    0.015556      0.009108     0.056035   \n",
       "75%      0.388899    0.999123    0.023996      0.050004     0.343164   \n",
       "max           inf   16.960636    1.030601      0.673480     1.382343   \n",
       "\n",
       "       op_profit_mrgn           R  \n",
       "count      745.000000  757.000000  \n",
       "mean             -inf    0.006756  \n",
       "std               NaN    1.575494  \n",
       "min              -inf   -5.300913  \n",
       "25%          0.147910   -0.962847  \n",
       "50%          0.517978    0.051601  \n",
       "75%          0.927075    0.964230  \n",
       "max         29.146628    5.627776  \n",
       "\n",
       "[8 rows x 28 columns]"
      ]
     },
     "execution_count": 252,
     "metadata": {},
     "output_type": "execute_result"
    }
   ],
   "source": [
    "df.describe()"
   ]
  },
  {
   "cell_type": "code",
   "execution_count": 253,
   "metadata": {},
   "outputs": [],
   "source": [
    "df.replace([np.inf, -np.inf], np.nan, inplace=True) # de esta manera podemos quitar los infinitos causados por divisiones entre cero"
   ]
  },
  {
   "cell_type": "code",
   "execution_count": 254,
   "metadata": {},
   "outputs": [],
   "source": [
    "df = df.dropna()"
   ]
  },
  {
   "cell_type": "code",
   "execution_count": 255,
   "metadata": {},
   "outputs": [],
   "source": [
    "X = df[['shrt_fin_lev','lng_fin_lev','op_profit_mrgn','EPSP','R']]"
   ]
  },
  {
   "cell_type": "markdown",
   "metadata": {},
   "source": [
    "## Matriz de correlacion"
   ]
  },
  {
   "cell_type": "code",
   "execution_count": 256,
   "metadata": {},
   "outputs": [
    {
     "data": {
      "text/html": [
       "<div>\n",
       "<style scoped>\n",
       "    .dataframe tbody tr th:only-of-type {\n",
       "        vertical-align: middle;\n",
       "    }\n",
       "\n",
       "    .dataframe tbody tr th {\n",
       "        vertical-align: top;\n",
       "    }\n",
       "\n",
       "    .dataframe thead th {\n",
       "        text-align: right;\n",
       "    }\n",
       "</style>\n",
       "<table border=\"1\" class=\"dataframe\">\n",
       "  <thead>\n",
       "    <tr style=\"text-align: right;\">\n",
       "      <th></th>\n",
       "      <th>shrt_fin_lev</th>\n",
       "      <th>lng_fin_lev</th>\n",
       "      <th>op_profit_mrgn</th>\n",
       "      <th>EPSP</th>\n",
       "      <th>R</th>\n",
       "    </tr>\n",
       "  </thead>\n",
       "  <tbody>\n",
       "    <tr>\n",
       "      <th>shrt_fin_lev</th>\n",
       "      <td>0.017706</td>\n",
       "      <td>-0.006849</td>\n",
       "      <td>0.309933</td>\n",
       "      <td>0.002933</td>\n",
       "      <td>-0.036655</td>\n",
       "    </tr>\n",
       "    <tr>\n",
       "      <th>lng_fin_lev</th>\n",
       "      <td>-0.006849</td>\n",
       "      <td>0.061297</td>\n",
       "      <td>1.183260</td>\n",
       "      <td>-0.000462</td>\n",
       "      <td>0.030355</td>\n",
       "    </tr>\n",
       "    <tr>\n",
       "      <th>op_profit_mrgn</th>\n",
       "      <td>0.309933</td>\n",
       "      <td>1.183260</td>\n",
       "      <td>4413.850466</td>\n",
       "      <td>0.167222</td>\n",
       "      <td>18.375951</td>\n",
       "    </tr>\n",
       "    <tr>\n",
       "      <th>EPSP</th>\n",
       "      <td>0.002933</td>\n",
       "      <td>-0.000462</td>\n",
       "      <td>0.167222</td>\n",
       "      <td>0.009295</td>\n",
       "      <td>0.020415</td>\n",
       "    </tr>\n",
       "    <tr>\n",
       "      <th>R</th>\n",
       "      <td>-0.036655</td>\n",
       "      <td>0.030355</td>\n",
       "      <td>18.375951</td>\n",
       "      <td>0.020415</td>\n",
       "      <td>3.322309</td>\n",
       "    </tr>\n",
       "  </tbody>\n",
       "</table>\n",
       "</div>"
      ],
      "text/plain": [
       "                shrt_fin_lev  lng_fin_lev  op_profit_mrgn      EPSP          R\n",
       "shrt_fin_lev        0.017706    -0.006849        0.309933  0.002933  -0.036655\n",
       "lng_fin_lev        -0.006849     0.061297        1.183260 -0.000462   0.030355\n",
       "op_profit_mrgn      0.309933     1.183260     4413.850466  0.167222  18.375951\n",
       "EPSP                0.002933    -0.000462        0.167222  0.009295   0.020415\n",
       "R                  -0.036655     0.030355       18.375951  0.020415   3.322309"
      ]
     },
     "execution_count": 256,
     "metadata": {},
     "output_type": "execute_result"
    }
   ],
   "source": [
    "N = len(X)\n",
    "uno = np.ones((len(X),1))\n",
    "x1 = X.T @ X\n",
    "x2 = X.T @ uno\n",
    "x3 = (X.T @ uno).T\n",
    "m = 1/N\n",
    "\n",
    "corr_matrix = (x1 - m * (x2 @ x3)) / (N-1)\n",
    "corr_matrix"
   ]
  },
  {
   "cell_type": "code",
   "execution_count": 257,
   "metadata": {},
   "outputs": [
    {
     "data": {
      "text/html": [
       "<div>\n",
       "<style scoped>\n",
       "    .dataframe tbody tr th:only-of-type {\n",
       "        vertical-align: middle;\n",
       "    }\n",
       "\n",
       "    .dataframe tbody tr th {\n",
       "        vertical-align: top;\n",
       "    }\n",
       "\n",
       "    .dataframe thead th {\n",
       "        text-align: right;\n",
       "    }\n",
       "</style>\n",
       "<table border=\"1\" class=\"dataframe\">\n",
       "  <thead>\n",
       "    <tr style=\"text-align: right;\">\n",
       "      <th></th>\n",
       "      <th>shrt_fin_lev</th>\n",
       "      <th>lng_fin_lev</th>\n",
       "      <th>op_profit_mrgn</th>\n",
       "      <th>EPSP</th>\n",
       "      <th>R</th>\n",
       "    </tr>\n",
       "  </thead>\n",
       "  <tbody>\n",
       "    <tr>\n",
       "      <th>shrt_fin_lev</th>\n",
       "      <td>1.000000</td>\n",
       "      <td>-0.207909</td>\n",
       "      <td>0.035059</td>\n",
       "      <td>0.228640</td>\n",
       "      <td>-0.151130</td>\n",
       "    </tr>\n",
       "    <tr>\n",
       "      <th>lng_fin_lev</th>\n",
       "      <td>-0.207909</td>\n",
       "      <td>1.000000</td>\n",
       "      <td>0.071937</td>\n",
       "      <td>-0.019351</td>\n",
       "      <td>0.067265</td>\n",
       "    </tr>\n",
       "    <tr>\n",
       "      <th>op_profit_mrgn</th>\n",
       "      <td>0.035059</td>\n",
       "      <td>0.071937</td>\n",
       "      <td>1.000000</td>\n",
       "      <td>0.026107</td>\n",
       "      <td>0.151747</td>\n",
       "    </tr>\n",
       "    <tr>\n",
       "      <th>EPSP</th>\n",
       "      <td>0.228640</td>\n",
       "      <td>-0.019351</td>\n",
       "      <td>0.026107</td>\n",
       "      <td>1.000000</td>\n",
       "      <td>0.116172</td>\n",
       "    </tr>\n",
       "    <tr>\n",
       "      <th>R</th>\n",
       "      <td>-0.151130</td>\n",
       "      <td>0.067265</td>\n",
       "      <td>0.151747</td>\n",
       "      <td>0.116172</td>\n",
       "      <td>1.000000</td>\n",
       "    </tr>\n",
       "  </tbody>\n",
       "</table>\n",
       "</div>"
      ],
      "text/plain": [
       "                shrt_fin_lev  lng_fin_lev  op_profit_mrgn      EPSP         R\n",
       "shrt_fin_lev        1.000000    -0.207909        0.035059  0.228640 -0.151130\n",
       "lng_fin_lev        -0.207909     1.000000        0.071937 -0.019351  0.067265\n",
       "op_profit_mrgn      0.035059     0.071937        1.000000  0.026107  0.151747\n",
       "EPSP                0.228640    -0.019351        0.026107  1.000000  0.116172\n",
       "R                  -0.151130     0.067265        0.151747  0.116172  1.000000"
      ]
     },
     "execution_count": 257,
     "metadata": {},
     "output_type": "execute_result"
    }
   ],
   "source": [
    "X.corr()"
   ]
  },
  {
   "cell_type": "markdown",
   "metadata": {},
   "source": [
    "## Matriz de covarianza"
   ]
  },
  {
   "cell_type": "code",
   "execution_count": 258,
   "metadata": {},
   "outputs": [
    {
     "data": {
      "text/html": [
       "<div>\n",
       "<style scoped>\n",
       "    .dataframe tbody tr th:only-of-type {\n",
       "        vertical-align: middle;\n",
       "    }\n",
       "\n",
       "    .dataframe tbody tr th {\n",
       "        vertical-align: top;\n",
       "    }\n",
       "\n",
       "    .dataframe thead th {\n",
       "        text-align: right;\n",
       "    }\n",
       "</style>\n",
       "<table border=\"1\" class=\"dataframe\">\n",
       "  <thead>\n",
       "    <tr style=\"text-align: right;\">\n",
       "      <th></th>\n",
       "      <th>shrt_fin_lev</th>\n",
       "      <th>lng_fin_lev</th>\n",
       "      <th>op_profit_mrgn</th>\n",
       "      <th>EPSP</th>\n",
       "      <th>R</th>\n",
       "    </tr>\n",
       "  </thead>\n",
       "  <tbody>\n",
       "    <tr>\n",
       "      <th>shrt_fin_lev</th>\n",
       "      <td>0.017706</td>\n",
       "      <td>-0.006849</td>\n",
       "      <td>0.309933</td>\n",
       "      <td>0.002933</td>\n",
       "      <td>-0.036655</td>\n",
       "    </tr>\n",
       "    <tr>\n",
       "      <th>lng_fin_lev</th>\n",
       "      <td>-0.006849</td>\n",
       "      <td>0.061297</td>\n",
       "      <td>1.183260</td>\n",
       "      <td>-0.000462</td>\n",
       "      <td>0.030355</td>\n",
       "    </tr>\n",
       "    <tr>\n",
       "      <th>op_profit_mrgn</th>\n",
       "      <td>0.309933</td>\n",
       "      <td>1.183260</td>\n",
       "      <td>4413.850466</td>\n",
       "      <td>0.167222</td>\n",
       "      <td>18.375951</td>\n",
       "    </tr>\n",
       "    <tr>\n",
       "      <th>EPSP</th>\n",
       "      <td>0.002933</td>\n",
       "      <td>-0.000462</td>\n",
       "      <td>0.167222</td>\n",
       "      <td>0.009295</td>\n",
       "      <td>0.020415</td>\n",
       "    </tr>\n",
       "    <tr>\n",
       "      <th>R</th>\n",
       "      <td>-0.036655</td>\n",
       "      <td>0.030355</td>\n",
       "      <td>18.375951</td>\n",
       "      <td>0.020415</td>\n",
       "      <td>3.322309</td>\n",
       "    </tr>\n",
       "  </tbody>\n",
       "</table>\n",
       "</div>"
      ],
      "text/plain": [
       "                shrt_fin_lev  lng_fin_lev  op_profit_mrgn      EPSP          R\n",
       "shrt_fin_lev        0.017706    -0.006849        0.309933  0.002933  -0.036655\n",
       "lng_fin_lev        -0.006849     0.061297        1.183260 -0.000462   0.030355\n",
       "op_profit_mrgn      0.309933     1.183260     4413.850466  0.167222  18.375951\n",
       "EPSP                0.002933    -0.000462        0.167222  0.009295   0.020415\n",
       "R                  -0.036655     0.030355       18.375951  0.020415   3.322309"
      ]
     },
     "execution_count": 258,
     "metadata": {},
     "output_type": "execute_result"
    }
   ],
   "source": [
    "#np.cov(df_new, bias = True)\n",
    "X.cov()"
   ]
  },
  {
   "cell_type": "markdown",
   "metadata": {},
   "source": [
    "## Multicolinealidad "
   ]
  },
  {
   "cell_type": "code",
   "execution_count": 259,
   "metadata": {},
   "outputs": [
    {
     "name": "stdout",
     "output_type": "stream",
     "text": [
      "          feature       VIF\n",
      "0    shrt_fin_lev  1.031416\n",
      "1     lng_fin_lev  1.031419\n",
      "2  op_profit_mrgn  1.000004\n"
     ]
    }
   ],
   "source": [
    "from statsmodels.stats.outliers_influence import variance_inflation_factor\n",
    "vif_data = pd.DataFrame()\n",
    "\n",
    "df_vif  = X[['shrt_fin_lev','lng_fin_lev','op_profit_mrgn']]\n",
    "\n",
    "vif_data[\"feature\"] = df_vif.columns\n",
    "  \n",
    "# calculating VIF for each feature\n",
    "vif_data[\"VIF\"] = [variance_inflation_factor(df_vif.values, i)\n",
    "                          for i in range(len(df_vif.columns))]\n",
    "\n",
    "print(vif_data)"
   ]
  },
  {
   "cell_type": "markdown",
   "metadata": {},
   "source": [
    "'''\n",
    "CONSIDERANDO 5 COMO NUMERO UMBRAL PARA DEFINIR SI ELIMINAMOS ALGUNA VARIABLE NOTAMOS QUE NO HAY NINGUNA VARIABLE INDEPENDIENTE QUE SUPERE\n",
    "DICHO UMBRAL, POR LO TANTO PODEMOS ASEGURAR QUE NO HAY MULTICOLINEALIDAD, ES DECIR QUE NO HAY PARES DE VARIABLES INDEPENDIENTES CON UNA \n",
    "ALTA CORRELACIÓN\n",
    "'''"
   ]
  },
  {
   "cell_type": "code",
   "execution_count": 260,
   "metadata": {},
   "outputs": [],
   "source": [
    "x = X[['shrt_fin_lev','lng_fin_lev','op_profit_mrgn','EPSP']].to_numpy()\n",
    "y = X['R'].values\n",
    "x= np.transpose(x)\n"
   ]
  },
  {
   "cell_type": "code",
   "execution_count": 261,
   "metadata": {},
   "outputs": [
    {
     "data": {
      "text/html": [
       "<div>\n",
       "<style scoped>\n",
       "    .dataframe tbody tr th:only-of-type {\n",
       "        vertical-align: middle;\n",
       "    }\n",
       "\n",
       "    .dataframe tbody tr th {\n",
       "        vertical-align: top;\n",
       "    }\n",
       "\n",
       "    .dataframe thead th {\n",
       "        text-align: right;\n",
       "    }\n",
       "</style>\n",
       "<table border=\"1\" class=\"dataframe\">\n",
       "  <thead>\n",
       "    <tr style=\"text-align: right;\">\n",
       "      <th></th>\n",
       "      <th></th>\n",
       "      <th>shrt_fin_lev</th>\n",
       "      <th>lng_fin_lev</th>\n",
       "      <th>op_profit_mrgn</th>\n",
       "      <th>EPSP</th>\n",
       "      <th>R</th>\n",
       "    </tr>\n",
       "    <tr>\n",
       "      <th>firm</th>\n",
       "      <th>qdate</th>\n",
       "      <th></th>\n",
       "      <th></th>\n",
       "      <th></th>\n",
       "      <th></th>\n",
       "      <th></th>\n",
       "    </tr>\n",
       "  </thead>\n",
       "  <tbody>\n",
       "    <tr>\n",
       "      <th>AC</th>\n",
       "      <th>2022Q1</th>\n",
       "      <td>0.000000</td>\n",
       "      <td>0.000000</td>\n",
       "      <td>-1.280403</td>\n",
       "      <td>-0.017514</td>\n",
       "      <td>0.107853</td>\n",
       "    </tr>\n",
       "    <tr>\n",
       "      <th>ACT</th>\n",
       "      <th>2022Q1</th>\n",
       "      <td>0.024364</td>\n",
       "      <td>0.127927</td>\n",
       "      <td>0.826009</td>\n",
       "      <td>0.045438</td>\n",
       "      <td>-0.636304</td>\n",
       "    </tr>\n",
       "    <tr>\n",
       "      <th>ACTG</th>\n",
       "      <th>2022Q1</th>\n",
       "      <td>0.254991</td>\n",
       "      <td>0.003474</td>\n",
       "      <td>-0.629896</td>\n",
       "      <td>-0.349550</td>\n",
       "      <td>-2.518519</td>\n",
       "    </tr>\n",
       "    <tr>\n",
       "      <th>AEI</th>\n",
       "      <th>2022Q1</th>\n",
       "      <td>0.001657</td>\n",
       "      <td>0.001792</td>\n",
       "      <td>-0.846998</td>\n",
       "      <td>-0.124212</td>\n",
       "      <td>-3.490912</td>\n",
       "    </tr>\n",
       "    <tr>\n",
       "      <th>AFCG</th>\n",
       "      <th>2022Q1</th>\n",
       "      <td>0.000000</td>\n",
       "      <td>0.218182</td>\n",
       "      <td>0.623220</td>\n",
       "      <td>0.026921</td>\n",
       "      <td>1.410205</td>\n",
       "    </tr>\n",
       "  </tbody>\n",
       "</table>\n",
       "</div>"
      ],
      "text/plain": [
       "             shrt_fin_lev  lng_fin_lev  op_profit_mrgn      EPSP         R\n",
       "firm qdate                                                                \n",
       "AC   2022Q1      0.000000     0.000000       -1.280403 -0.017514  0.107853\n",
       "ACT  2022Q1      0.024364     0.127927        0.826009  0.045438 -0.636304\n",
       "ACTG 2022Q1      0.254991     0.003474       -0.629896 -0.349550 -2.518519\n",
       "AEI  2022Q1      0.001657     0.001792       -0.846998 -0.124212 -3.490912\n",
       "AFCG 2022Q1      0.000000     0.218182        0.623220  0.026921  1.410205"
      ]
     },
     "execution_count": 261,
     "metadata": {},
     "output_type": "execute_result"
    }
   ],
   "source": [
    "X.head()"
   ]
  },
  {
   "cell_type": "markdown",
   "metadata": {},
   "source": [
    "## Modelo con algebra matricial"
   ]
  },
  {
   "cell_type": "code",
   "execution_count": 262,
   "metadata": {},
   "outputs": [
    {
     "name": "stdout",
     "output_type": "stream",
     "text": [
      "b0: 0.21221585780889612\n",
      "b1: -2.5730568132607705\n",
      "b2: 0.148916189433379\n",
      "b3: 0.0041926102152258626\n",
      "b4: 2.9401991827513974\n",
      "[ 0.21221586 -2.57305681  0.14891619  0.00419261  2.94019918]\n"
     ]
    }
   ],
   "source": [
    "import numpy as np\n",
    "\n",
    "def determinar_b(X, Y):\n",
    "    X = np.insert(X, 0, np.array((np.ones(len(X[0])))), 0).T\n",
    "    return np.linalg.inv(X.T @ X) @ X.T @ Y\n",
    "    \n",
    "b = determinar_b(x, y)\n",
    "\n",
    "for i in range (len(b)):\n",
    "    print(\"b\" + str(i) + \": \"+str(b[i]))\n",
    "\n",
    "print(b)\n",
    "\n"
   ]
  },
  {
   "cell_type": "code",
   "execution_count": 263,
   "metadata": {},
   "outputs": [],
   "source": [
    "x_new = X[['shrt_fin_lev','lng_fin_lev','op_profit_mrgn','EPSP']].to_numpy()"
   ]
  },
  {
   "cell_type": "code",
   "execution_count": 264,
   "metadata": {},
   "outputs": [
    {
     "ename": "IndexError",
     "evalue": "index 4 is out of bounds for axis 0 with size 4",
     "output_type": "error",
     "traceback": [
      "\u001b[1;31m---------------------------------------------------------------------------\u001b[0m",
      "\u001b[1;31mIndexError\u001b[0m                                Traceback (most recent call last)",
      "\u001b[1;32mc:\\Users\\gerar\\OneDrive\\Documents\\7mo semestre\\Estadistica\\Act1.ipynb Celda 25\u001b[0m in \u001b[0;36m<module>\u001b[1;34m\u001b[0m\n\u001b[0;32m      <a href='vscode-notebook-cell:/c%3A/Users/gerar/OneDrive/Documents/7mo%20semestre/Estadistica/Act1.ipynb#X32sZmlsZQ%3D%3D?line=7'>8</a>\u001b[0m forecast\u001b[39m=\u001b[39m[]\n\u001b[0;32m      <a href='vscode-notebook-cell:/c%3A/Users/gerar/OneDrive/Documents/7mo%20semestre/Estadistica/Act1.ipynb#X32sZmlsZQ%3D%3D?line=8'>9</a>\u001b[0m \u001b[39mfor\u001b[39;00m i \u001b[39min\u001b[39;00m \u001b[39mrange\u001b[39m(\u001b[39mlen\u001b[39m(x_new)):\n\u001b[1;32m---> <a href='vscode-notebook-cell:/c%3A/Users/gerar/OneDrive/Documents/7mo%20semestre/Estadistica/Act1.ipynb#X32sZmlsZQ%3D%3D?line=9'>10</a>\u001b[0m     pred \u001b[39m=\u001b[39m b[\u001b[39m1\u001b[39m]\u001b[39m*\u001b[39mx_new[i][\u001b[39m1\u001b[39m] \u001b[39m+\u001b[39m b[\u001b[39m2\u001b[39m]\u001b[39m*\u001b[39mx_new[i][\u001b[39m2\u001b[39m] \u001b[39m+\u001b[39m b[\u001b[39m3\u001b[39m]\u001b[39m*\u001b[39mx_new[i][\u001b[39m3\u001b[39m] \u001b[39m+\u001b[39m b[\u001b[39m4\u001b[39m]\u001b[39m*\u001b[39mx_new[i][\u001b[39m4\u001b[39;49m] \u001b[39m+\u001b[39m intercept\n\u001b[0;32m     <a href='vscode-notebook-cell:/c%3A/Users/gerar/OneDrive/Documents/7mo%20semestre/Estadistica/Act1.ipynb#X32sZmlsZQ%3D%3D?line=10'>11</a>\u001b[0m     forecast\u001b[39m.\u001b[39mappend(\u001b[39mfloat\u001b[39m(pred))\n",
      "\u001b[1;31mIndexError\u001b[0m: index 4 is out of bounds for axis 0 with size 4"
     ]
    }
   ],
   "source": [
    "intercept = b[0]\n",
    "b = np.array(b)\n",
    "'''\n",
    "for i in range(len(x_new)):\n",
    "    for j in range(len(x_new)):\n",
    "        prod1 = b[j] * x_new[i][j]\n",
    "'''\n",
    "forecast=[]\n",
    "for i in range(len(x_new)):\n",
    "    pred = b[1]*x_new[i][1] + b[2]*x_new[i][2] + b[3]*x_new[i][3] + b[4]*x_new[i][4] + intercept\n",
    "    forecast.append(float(pred))\n"
   ]
  },
  {
   "cell_type": "code",
   "execution_count": null,
   "metadata": {},
   "outputs": [
    {
     "data": {
      "text/plain": [
       "[<matplotlib.lines.Line2D at 0x1e592a5b280>]"
      ]
     },
     "execution_count": 240,
     "metadata": {},
     "output_type": "execute_result"
    },
    {
     "data": {
      "image/png": "[encoded data removed]",
      "text/plain": [
       "<Figure size 432x288 with 1 Axes>"
      ]
     },
     "metadata": {
      "needs_background": "light"
     },
     "output_type": "display_data"
    }
   ],
   "source": [
    "import matplotlib.pyplot as plt\n",
    "plt.plot(forecast)"
   ]
  },
  {
   "cell_type": "code",
   "execution_count": null,
   "metadata": {},
   "outputs": [],
   "source": [
    "error = X['R'].values - forecast"
   ]
  },
  {
   "cell_type": "code",
   "execution_count": null,
   "metadata": {},
   "outputs": [
    {
     "name": "stdout",
     "output_type": "stream",
     "text": [
      "error promedio: 1.3997723871084384\n"
     ]
    }
   ],
   "source": [
    "print(\"error promedio: \" + str(error.mean()))"
   ]
  },
  {
   "cell_type": "code",
   "execution_count": null,
   "metadata": {},
   "outputs": [
    {
     "name": "stdout",
     "output_type": "stream",
     "text": [
      "                            OLS Regression Results                            \n",
      "==============================================================================\n",
      "Dep. Variable:                      y   R-squared:                       1.000\n",
      "Model:                            OLS   Adj. R-squared:                  1.000\n",
      "Method:                 Least Squares   F-statistic:                 2.459e+26\n",
      "Date:                Tue, 25 Oct 2022   Prob (F-statistic):               0.00\n",
      "Time:                        00:06:40   Log-Likelihood:                 4682.3\n",
      "No. Observations:                 176   AIC:                            -9353.\n",
      "Df Residuals:                     170   BIC:                            -9334.\n",
      "Df Model:                           5                                         \n",
      "Covariance Type:            nonrobust                                         \n",
      "==================================================================================\n",
      "                     coef    std err          t      P>|t|      [0.025      0.975]\n",
      "----------------------------------------------------------------------------------\n",
      "const           5.551e-17   8.18e-14      0.001      0.999   -1.61e-13    1.62e-13\n",
      "shrt_fin_lev   -4.774e-15   4.18e-13     -0.011      0.991    -8.3e-13     8.2e-13\n",
      "lng_fin_lev     1.443e-15   2.16e-13      0.007      0.995   -4.24e-13    4.27e-13\n",
      "op_profit_mrgn  1.018e-14   7.95e-16     12.793      0.000    8.61e-15    1.17e-14\n",
      "EPSP             1.11e-16   5.61e-13      0.000      1.000   -1.11e-12    1.11e-12\n",
      "R                  1.0000   2.96e-14   3.38e+13      0.000       1.000       1.000\n",
      "==============================================================================\n",
      "Omnibus:                      386.622   Durbin-Watson:                   2.003\n",
      "Prob(Omnibus):                  0.000   Jarque-Bera (JB):           218448.472\n",
      "Skew:                          13.129   Prob(JB):                         0.00\n",
      "Kurtosis:                     173.584   Cond. No.                         743.\n",
      "==============================================================================\n",
      "\n",
      "Notes:\n",
      "[1] Standard Errors assume that the covariance matrix of the errors is correctly specified.\n"
     ]
    }
   ],
   "source": [
    "import statsmodels.api as sm\n",
    "import statsmodels.formula.api as smf\n",
    "\n",
    "x = sm.add_constant(X)\n",
    "\n",
    "results = sm.OLS(y, x).fit()\n",
    "print(results.summary())"
   ]
  },
  {
   "cell_type": "code",
   "execution_count": null,
   "metadata": {},
   "outputs": [
    {
     "name": "stdout",
     "output_type": "stream",
     "text": [
      "[ 0.21221586 -2.57305681  0.14891619  0.00419261  2.94019918]\n"
     ]
    }
   ],
   "source": [
    "print(b)"
   ]
  },
  {
   "cell_type": "code",
   "execution_count": null,
   "metadata": {},
   "outputs": [],
   "source": []
  }
 ],
 "metadata": {
  "kernelspec": {
   "display_name": "Python 3.10.2 64-bit",
   "language": "python",
   "name": "python3"
  },
  "language_info": {
   "codemirror_mode": {
    "name": "ipython",
    "version": 3
   },
   "file_extension": ".py",
   "mimetype": "text/x-python",
   "name": "python",
   "nbconvert_exporter": "python",
   "pygments_lexer": "ipython3",
   "version": "3.10.2"
  },
  "orig_nbformat": 4,
  "vscode": {
   "interpreter": {
    "hash": "94fd35bdfbdadf0cce7f7ebd34d4304e9f552af4e7bb7e536a3d4281b53fd810"
   }
  }
 },
 "nbformat": 4,
 "nbformat_minor": 2
}
