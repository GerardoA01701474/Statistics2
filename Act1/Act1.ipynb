{
 "cells": [
  {
   "cell_type": "code",
   "execution_count": 96,
   "metadata": {},
   "outputs": [],
   "source": [
    "import pandas as pd\n",
    "import matplotlib\n",
    "import matplotlib.pyplot as plt\n",
    "import seaborn as sns\n",
    "import numpy as np\n",
    "import warnings\n",
    "warnings.filterwarnings('ignore')"
   ]
  },
  {
   "cell_type": "code",
   "execution_count": 97,
   "metadata": {},
   "outputs": [],
   "source": [
    "df_data = pd.read_csv(\"us2022q2a.csv\")\n",
    "df_firms = pd.read_csv(\"usfirms2022.csv\")\n"
   ]
  },
  {
   "cell_type": "code",
   "execution_count": 98,
   "metadata": {},
   "outputs": [],
   "source": [
    "df_firms.rename(columns = {'Ticker':'firm'}, inplace = True)\n",
    "df_merged = pd.merge(df_data, df_firms, on=\"firm\", how=\"left\")\n",
    "df_merged['qdate'] = pd.PeriodIndex(df_merged['q'], freq=\"Q\")\n",
    "#df_merged.set_index(['firm','qdate'],inplace=True)\n",
    "df_merged.drop(columns=[\"Name\",\"N\",\"Class\",\"Country\\nof Origin\",\n",
    "                        \"Type of Asset\",\"Exchange / Src\",\"Sector NAICS\\nlast available\",\"partind\",'stockholderequity','Sector\\nEconomatica'], inplace=True)"
   ]
  },
  {
   "cell_type": "code",
   "execution_count": 99,
   "metadata": {},
   "outputs": [],
   "source": [
    "df_merged.set_index(['firm', 'q'])\n",
    "aux = df_merged['q'] == '2022q1'\n",
    "aux\n",
    "df = df_merged[aux]\n"
   ]
  },
  {
   "cell_type": "code",
   "execution_count": 100,
   "metadata": {},
   "outputs": [],
   "source": [
    "df = df[df['Sector NAICS\\nlevel 1'].isin(['Finance and Insurance', 'Real Estate and Rental and Leasing'])]"
   ]
  },
  {
   "cell_type": "code",
   "execution_count": 101,
   "metadata": {},
   "outputs": [],
   "source": [
    "df['BookVal'] = df['totalassets'] - df['totalliabilities']\n",
    "df['MarketVal'] = df['originalprice'] * df['sharesoutstanding']\n",
    "df['ebit'] = df['revenue'] - df['cogs'] - df['sgae'] - df['otheropexp']\n",
    "df['NetIncome'] = df['ebit'] - df['finexp'] - df['incometax'] + df['extraincome']\n",
    "\n",
    "df['ProfMar'] = df['NetIncome'] / df['revenue']\n",
    "df['EPS'] = df['NetIncome'] / df['sharesoutstanding']\n",
    "df['EPSP'] = df['EPS'] / df['originalprice']"
   ]
  },
  {
   "cell_type": "code",
   "execution_count": 102,
   "metadata": {},
   "outputs": [],
   "source": [
    "\n",
    "df['shrt_fin_lev'] = df['shortdebt'] / df['totalassets']\n",
    "df['lng_fin_lev'] = df['longdebt'] / df['totalassets']\n",
    "df['op_profit_mrgn'] = df['ebit'] / df['revenue']\n",
    "df['R'] = np.log(df['adjprice']) - np.log(df['adjprice'].shift(4))"
   ]
  },
  {
   "cell_type": "code",
   "execution_count": 103,
   "metadata": {},
   "outputs": [
    {
     "data": {
      "text/html": [
       "<div>\n",
       "<style scoped>\n",
       "    .dataframe tbody tr th:only-of-type {\n",
       "        vertical-align: middle;\n",
       "    }\n",
       "\n",
       "    .dataframe tbody tr th {\n",
       "        vertical-align: top;\n",
       "    }\n",
       "\n",
       "    .dataframe thead th {\n",
       "        text-align: right;\n",
       "    }\n",
       "</style>\n",
       "<table border=\"1\" class=\"dataframe\">\n",
       "  <thead>\n",
       "    <tr style=\"text-align: right;\">\n",
       "      <th></th>\n",
       "      <th>revenue</th>\n",
       "      <th>cogs</th>\n",
       "      <th>sgae</th>\n",
       "      <th>otheropexp</th>\n",
       "      <th>extraincome</th>\n",
       "      <th>finexp</th>\n",
       "      <th>incometax</th>\n",
       "      <th>totalassets</th>\n",
       "      <th>totalliabilities</th>\n",
       "      <th>shortdebt</th>\n",
       "      <th>...</th>\n",
       "      <th>MarketVal</th>\n",
       "      <th>ebit</th>\n",
       "      <th>NetIncome</th>\n",
       "      <th>ProfMar</th>\n",
       "      <th>EPS</th>\n",
       "      <th>EPSP</th>\n",
       "      <th>shrt_fin_lev</th>\n",
       "      <th>lng_fin_lev</th>\n",
       "      <th>op_profit_mrgn</th>\n",
       "      <th>R</th>\n",
       "    </tr>\n",
       "  </thead>\n",
       "  <tbody>\n",
       "    <tr>\n",
       "      <th>count</th>\n",
       "      <td>7.460000e+02</td>\n",
       "      <td>7.460000e+02</td>\n",
       "      <td>7.460000e+02</td>\n",
       "      <td>7.460000e+02</td>\n",
       "      <td>7.460000e+02</td>\n",
       "      <td>7.460000e+02</td>\n",
       "      <td>7.460000e+02</td>\n",
       "      <td>7.480000e+02</td>\n",
       "      <td>7.480000e+02</td>\n",
       "      <td>1.820000e+02</td>\n",
       "      <td>...</td>\n",
       "      <td>7.610000e+02</td>\n",
       "      <td>7.460000e+02</td>\n",
       "      <td>7.460000e+02</td>\n",
       "      <td>746.000000</td>\n",
       "      <td>745.000000</td>\n",
       "      <td>745.000000</td>\n",
       "      <td>182.000000</td>\n",
       "      <td>748.000000</td>\n",
       "      <td>745.000000</td>\n",
       "      <td>757.000000</td>\n",
       "    </tr>\n",
       "    <tr>\n",
       "      <th>mean</th>\n",
       "      <td>9.119072e+05</td>\n",
       "      <td>3.133992e+05</td>\n",
       "      <td>3.366513e+05</td>\n",
       "      <td>1.614837e+04</td>\n",
       "      <td>-5.589958e+04</td>\n",
       "      <td>8.030914e+03</td>\n",
       "      <td>3.319493e+04</td>\n",
       "      <td>4.391185e+07</td>\n",
       "      <td>3.873140e+07</td>\n",
       "      <td>8.895004e+05</td>\n",
       "      <td>...</td>\n",
       "      <td>9.481661e+06</td>\n",
       "      <td>2.457084e+05</td>\n",
       "      <td>1.485830e+05</td>\n",
       "      <td>NaN</td>\n",
       "      <td>0.866146</td>\n",
       "      <td>0.009333</td>\n",
       "      <td>0.068093</td>\n",
       "      <td>0.181348</td>\n",
       "      <td>-inf</td>\n",
       "      <td>0.006756</td>\n",
       "    </tr>\n",
       "    <tr>\n",
       "      <th>std</th>\n",
       "      <td>4.291789e+06</td>\n",
       "      <td>3.405313e+06</td>\n",
       "      <td>1.295260e+06</td>\n",
       "      <td>1.538297e+05</td>\n",
       "      <td>4.220885e+05</td>\n",
       "      <td>6.074566e+04</td>\n",
       "      <td>1.303064e+05</td>\n",
       "      <td>2.401848e+08</td>\n",
       "      <td>2.211812e+08</td>\n",
       "      <td>3.794054e+06</td>\n",
       "      <td>...</td>\n",
       "      <td>3.217756e+07</td>\n",
       "      <td>1.005476e+06</td>\n",
       "      <td>5.980922e+05</td>\n",
       "      <td>NaN</td>\n",
       "      <td>1.792575</td>\n",
       "      <td>0.095545</td>\n",
       "      <td>0.138864</td>\n",
       "      <td>0.232306</td>\n",
       "      <td>NaN</td>\n",
       "      <td>1.575494</td>\n",
       "    </tr>\n",
       "    <tr>\n",
       "      <th>min</th>\n",
       "      <td>-6.820000e+02</td>\n",
       "      <td>-1.100000e+04</td>\n",
       "      <td>-5.735160e+05</td>\n",
       "      <td>-7.950410e+05</td>\n",
       "      <td>-5.624000e+06</td>\n",
       "      <td>-1.053553e+06</td>\n",
       "      <td>-1.797860e+05</td>\n",
       "      <td>2.339234e+03</td>\n",
       "      <td>5.000000e+00</td>\n",
       "      <td>0.000000e+00</td>\n",
       "      <td>...</td>\n",
       "      <td>1.554325e+04</td>\n",
       "      <td>-5.544630e+05</td>\n",
       "      <td>-6.510000e+05</td>\n",
       "      <td>-inf</td>\n",
       "      <td>-4.430385</td>\n",
       "      <td>-1.864448</td>\n",
       "      <td>0.000000</td>\n",
       "      <td>0.000000</td>\n",
       "      <td>-inf</td>\n",
       "      <td>-5.300913</td>\n",
       "    </tr>\n",
       "    <tr>\n",
       "      <th>25%</th>\n",
       "      <td>2.865022e+04</td>\n",
       "      <td>0.000000e+00</td>\n",
       "      <td>0.000000e+00</td>\n",
       "      <td>0.000000e+00</td>\n",
       "      <td>-2.188175e+04</td>\n",
       "      <td>0.000000e+00</td>\n",
       "      <td>1.950000e+01</td>\n",
       "      <td>1.755401e+06</td>\n",
       "      <td>1.223579e+06</td>\n",
       "      <td>0.000000e+00</td>\n",
       "      <td>...</td>\n",
       "      <td>3.805496e+05</td>\n",
       "      <td>1.043492e+04</td>\n",
       "      <td>2.977849e+03</td>\n",
       "      <td>0.069168</td>\n",
       "      <td>0.138448</td>\n",
       "      <td>0.004697</td>\n",
       "      <td>0.000000</td>\n",
       "      <td>0.014548</td>\n",
       "      <td>0.147910</td>\n",
       "      <td>-0.962847</td>\n",
       "    </tr>\n",
       "    <tr>\n",
       "      <th>50%</th>\n",
       "      <td>1.013940e+05</td>\n",
       "      <td>6.485000e+02</td>\n",
       "      <td>3.816500e+03</td>\n",
       "      <td>0.000000e+00</td>\n",
       "      <td>-5.043000e+03</td>\n",
       "      <td>0.000000e+00</td>\n",
       "      <td>2.310000e+03</td>\n",
       "      <td>4.984920e+06</td>\n",
       "      <td>3.536338e+06</td>\n",
       "      <td>1.807950e+04</td>\n",
       "      <td>...</td>\n",
       "      <td>1.510027e+06</td>\n",
       "      <td>3.857750e+04</td>\n",
       "      <td>1.739250e+04</td>\n",
       "      <td>0.243367</td>\n",
       "      <td>0.514355</td>\n",
       "      <td>0.015556</td>\n",
       "      <td>0.009108</td>\n",
       "      <td>0.056035</td>\n",
       "      <td>0.517978</td>\n",
       "      <td>0.051601</td>\n",
       "    </tr>\n",
       "    <tr>\n",
       "      <th>75%</th>\n",
       "      <td>3.495750e+05</td>\n",
       "      <td>5.802750e+03</td>\n",
       "      <td>1.413708e+05</td>\n",
       "      <td>0.000000e+00</td>\n",
       "      <td>0.000000e+00</td>\n",
       "      <td>4.778000e+03</td>\n",
       "      <td>1.324850e+04</td>\n",
       "      <td>1.525270e+07</td>\n",
       "      <td>1.136569e+07</td>\n",
       "      <td>2.186235e+05</td>\n",
       "      <td>...</td>\n",
       "      <td>5.378227e+06</td>\n",
       "      <td>1.281018e+05</td>\n",
       "      <td>6.515350e+04</td>\n",
       "      <td>0.388899</td>\n",
       "      <td>0.999123</td>\n",
       "      <td>0.023996</td>\n",
       "      <td>0.050004</td>\n",
       "      <td>0.343164</td>\n",
       "      <td>0.927075</td>\n",
       "      <td>0.964230</td>\n",
       "    </tr>\n",
       "    <tr>\n",
       "      <th>max</th>\n",
       "      <td>8.014900e+07</td>\n",
       "      <td>7.319900e+07</td>\n",
       "      <td>1.504100e+07</td>\n",
       "      <td>3.006000e+06</td>\n",
       "      <td>2.829000e+06</td>\n",
       "      <td>4.330000e+05</td>\n",
       "      <td>1.781000e+06</td>\n",
       "      <td>3.954687e+09</td>\n",
       "      <td>3.668788e+09</td>\n",
       "      <td>4.471500e+07</td>\n",
       "      <td>...</td>\n",
       "      <td>4.798303e+08</td>\n",
       "      <td>1.387200e+07</td>\n",
       "      <td>8.282000e+06</td>\n",
       "      <td>inf</td>\n",
       "      <td>16.960636</td>\n",
       "      <td>1.030601</td>\n",
       "      <td>0.673480</td>\n",
       "      <td>1.382343</td>\n",
       "      <td>29.146628</td>\n",
       "      <td>5.627776</td>\n",
       "    </tr>\n",
       "  </tbody>\n",
       "</table>\n",
       "<p>8 rows × 28 columns</p>\n",
       "</div>"
      ],
      "text/plain": [
       "            revenue          cogs          sgae    otheropexp   extraincome  \\\n",
       "count  7.460000e+02  7.460000e+02  7.460000e+02  7.460000e+02  7.460000e+02   \n",
       "mean   9.119072e+05  3.133992e+05  3.366513e+05  1.614837e+04 -5.589958e+04   \n",
       "std    4.291789e+06  3.405313e+06  1.295260e+06  1.538297e+05  4.220885e+05   \n",
       "min   -6.820000e+02 -1.100000e+04 -5.735160e+05 -7.950410e+05 -5.624000e+06   \n",
       "25%    2.865022e+04  0.000000e+00  0.000000e+00  0.000000e+00 -2.188175e+04   \n",
       "50%    1.013940e+05  6.485000e+02  3.816500e+03  0.000000e+00 -5.043000e+03   \n",
       "75%    3.495750e+05  5.802750e+03  1.413708e+05  0.000000e+00  0.000000e+00   \n",
       "max    8.014900e+07  7.319900e+07  1.504100e+07  3.006000e+06  2.829000e+06   \n",
       "\n",
       "             finexp     incometax   totalassets  totalliabilities  \\\n",
       "count  7.460000e+02  7.460000e+02  7.480000e+02      7.480000e+02   \n",
       "mean   8.030914e+03  3.319493e+04  4.391185e+07      3.873140e+07   \n",
       "std    6.074566e+04  1.303064e+05  2.401848e+08      2.211812e+08   \n",
       "min   -1.053553e+06 -1.797860e+05  2.339234e+03      5.000000e+00   \n",
       "25%    0.000000e+00  1.950000e+01  1.755401e+06      1.223579e+06   \n",
       "50%    0.000000e+00  2.310000e+03  4.984920e+06      3.536338e+06   \n",
       "75%    4.778000e+03  1.324850e+04  1.525270e+07      1.136569e+07   \n",
       "max    4.330000e+05  1.781000e+06  3.954687e+09      3.668788e+09   \n",
       "\n",
       "          shortdebt  ...     MarketVal          ebit     NetIncome  \\\n",
       "count  1.820000e+02  ...  7.610000e+02  7.460000e+02  7.460000e+02   \n",
       "mean   8.895004e+05  ...  9.481661e+06  2.457084e+05  1.485830e+05   \n",
       "std    3.794054e+06  ...  3.217756e+07  1.005476e+06  5.980922e+05   \n",
       "min    0.000000e+00  ...  1.554325e+04 -5.544630e+05 -6.510000e+05   \n",
       "25%    0.000000e+00  ...  3.805496e+05  1.043492e+04  2.977849e+03   \n",
       "50%    1.807950e+04  ...  1.510027e+06  3.857750e+04  1.739250e+04   \n",
       "75%    2.186235e+05  ...  5.378227e+06  1.281018e+05  6.515350e+04   \n",
       "max    4.471500e+07  ...  4.798303e+08  1.387200e+07  8.282000e+06   \n",
       "\n",
       "          ProfMar         EPS        EPSP  shrt_fin_lev  lng_fin_lev  \\\n",
       "count  746.000000  745.000000  745.000000    182.000000   748.000000   \n",
       "mean          NaN    0.866146    0.009333      0.068093     0.181348   \n",
       "std           NaN    1.792575    0.095545      0.138864     0.232306   \n",
       "min          -inf   -4.430385   -1.864448      0.000000     0.000000   \n",
       "25%      0.069168    0.138448    0.004697      0.000000     0.014548   \n",
       "50%      0.243367    0.514355    0.015556      0.009108     0.056035   \n",
       "75%      0.388899    0.999123    0.023996      0.050004     0.343164   \n",
       "max           inf   16.960636    1.030601      0.673480     1.382343   \n",
       "\n",
       "       op_profit_mrgn           R  \n",
       "count      745.000000  757.000000  \n",
       "mean             -inf    0.006756  \n",
       "std               NaN    1.575494  \n",
       "min              -inf   -5.300913  \n",
       "25%          0.147910   -0.962847  \n",
       "50%          0.517978    0.051601  \n",
       "75%          0.927075    0.964230  \n",
       "max         29.146628    5.627776  \n",
       "\n",
       "[8 rows x 28 columns]"
      ]
     },
     "execution_count": 103,
     "metadata": {},
     "output_type": "execute_result"
    }
   ],
   "source": [
    "df.describe()"
   ]
  },
  {
   "cell_type": "code",
   "execution_count": 104,
   "metadata": {},
   "outputs": [],
   "source": [
    "df.replace([np.inf, -np.inf], np.nan, inplace=True) # de esta manera podemos quitar los infinitos causados por divisiones entre cero"
   ]
  },
  {
   "cell_type": "code",
   "execution_count": 105,
   "metadata": {},
   "outputs": [],
   "source": [
    "df = df.dropna()"
   ]
  },
  {
   "cell_type": "code",
   "execution_count": 106,
   "metadata": {},
   "outputs": [],
   "source": [
    "X = df[['shrt_fin_lev','lng_fin_lev','op_profit_mrgn','EPSP','R']]\n",
    "y = df['R']"
   ]
  },
  {
   "cell_type": "markdown",
   "metadata": {},
   "source": [
    "## Matriz de correlacion"
   ]
  },
  {
   "cell_type": "markdown",
   "metadata": {},
   "source": [
    "La correlación es la dependencia entre 2 variables"
   ]
  },
  {
   "cell_type": "code",
   "execution_count": 107,
   "metadata": {},
   "outputs": [
    {
     "data": {
      "text/html": [
       "<div>\n",
       "<style scoped>\n",
       "    .dataframe tbody tr th:only-of-type {\n",
       "        vertical-align: middle;\n",
       "    }\n",
       "\n",
       "    .dataframe tbody tr th {\n",
       "        vertical-align: top;\n",
       "    }\n",
       "\n",
       "    .dataframe thead th {\n",
       "        text-align: right;\n",
       "    }\n",
       "</style>\n",
       "<table border=\"1\" class=\"dataframe\">\n",
       "  <thead>\n",
       "    <tr style=\"text-align: right;\">\n",
       "      <th></th>\n",
       "      <th>shrt_fin_lev</th>\n",
       "      <th>lng_fin_lev</th>\n",
       "      <th>op_profit_mrgn</th>\n",
       "      <th>EPSP</th>\n",
       "    </tr>\n",
       "  </thead>\n",
       "  <tbody>\n",
       "    <tr>\n",
       "      <th>shrt_fin_lev</th>\n",
       "      <td>1.000000</td>\n",
       "      <td>-0.207909</td>\n",
       "      <td>0.035059</td>\n",
       "      <td>0.228640</td>\n",
       "    </tr>\n",
       "    <tr>\n",
       "      <th>lng_fin_lev</th>\n",
       "      <td>-0.207909</td>\n",
       "      <td>1.000000</td>\n",
       "      <td>0.071937</td>\n",
       "      <td>-0.019351</td>\n",
       "    </tr>\n",
       "    <tr>\n",
       "      <th>op_profit_mrgn</th>\n",
       "      <td>0.035059</td>\n",
       "      <td>0.071937</td>\n",
       "      <td>1.000000</td>\n",
       "      <td>0.026107</td>\n",
       "    </tr>\n",
       "    <tr>\n",
       "      <th>EPSP</th>\n",
       "      <td>0.228640</td>\n",
       "      <td>-0.019351</td>\n",
       "      <td>0.026107</td>\n",
       "      <td>1.000000</td>\n",
       "    </tr>\n",
       "  </tbody>\n",
       "</table>\n",
       "</div>"
      ],
      "text/plain": [
       "                shrt_fin_lev  lng_fin_lev  op_profit_mrgn      EPSP\n",
       "shrt_fin_lev        1.000000    -0.207909        0.035059  0.228640\n",
       "lng_fin_lev        -0.207909     1.000000        0.071937 -0.019351\n",
       "op_profit_mrgn      0.035059     0.071937        1.000000  0.026107\n",
       "EPSP                0.228640    -0.019351        0.026107  1.000000"
      ]
     },
     "execution_count": 107,
     "metadata": {},
     "output_type": "execute_result"
    }
   ],
   "source": [
    "# Calculate the corretation matrix by using the next formula:\n",
    "# Corr(X,y) = Cov(X,y)/std(x)*std(y)\n",
    "N = len(X)\n",
    "one = np.ones((N,1))\n",
    "X_1 = X.T @ X\n",
    "X_2 = X.T @ one\n",
    "X_3 = X_2.T\n",
    "VarCovXY = (X_1 - (1/N) * (X_2 @ X_3)) / (N-1)\n",
    "stdxy = np.diag(VarCovXY)**0.5\n",
    "\n",
    "std = [[0 for y in range(len(stdxy))] for x in range(len(stdxy))]\n",
    "for i in range(len(stdxy)):\n",
    "    for j in range(len(stdxy)):\n",
    "        std[i][j] = stdxy[i] * stdxy[j]\n",
    "\n",
    "std = np.array([np.array(s) for s in std])\n",
    "\n",
    "CorrXY = VarCovXY / std\n",
    "CorrXY"
   ]
  },
  {
   "cell_type": "code",
   "execution_count": 108,
   "metadata": {},
   "outputs": [
    {
     "data": {
      "text/html": [
       "<div>\n",
       "<style scoped>\n",
       "    .dataframe tbody tr th:only-of-type {\n",
       "        vertical-align: middle;\n",
       "    }\n",
       "\n",
       "    .dataframe tbody tr th {\n",
       "        vertical-align: top;\n",
       "    }\n",
       "\n",
       "    .dataframe thead th {\n",
       "        text-align: right;\n",
       "    }\n",
       "</style>\n",
       "<table border=\"1\" class=\"dataframe\">\n",
       "  <thead>\n",
       "    <tr style=\"text-align: right;\">\n",
       "      <th></th>\n",
       "      <th>shrt_fin_lev</th>\n",
       "      <th>lng_fin_lev</th>\n",
       "      <th>op_profit_mrgn</th>\n",
       "      <th>EPSP</th>\n",
       "    </tr>\n",
       "  </thead>\n",
       "  <tbody>\n",
       "    <tr>\n",
       "      <th>shrt_fin_lev</th>\n",
       "      <td>1.000000</td>\n",
       "      <td>-0.207909</td>\n",
       "      <td>0.035059</td>\n",
       "      <td>0.228640</td>\n",
       "    </tr>\n",
       "    <tr>\n",
       "      <th>lng_fin_lev</th>\n",
       "      <td>-0.207909</td>\n",
       "      <td>1.000000</td>\n",
       "      <td>0.071937</td>\n",
       "      <td>-0.019351</td>\n",
       "    </tr>\n",
       "    <tr>\n",
       "      <th>op_profit_mrgn</th>\n",
       "      <td>0.035059</td>\n",
       "      <td>0.071937</td>\n",
       "      <td>1.000000</td>\n",
       "      <td>0.026107</td>\n",
       "    </tr>\n",
       "    <tr>\n",
       "      <th>EPSP</th>\n",
       "      <td>0.228640</td>\n",
       "      <td>-0.019351</td>\n",
       "      <td>0.026107</td>\n",
       "      <td>1.000000</td>\n",
       "    </tr>\n",
       "  </tbody>\n",
       "</table>\n",
       "</div>"
      ],
      "text/plain": [
       "                shrt_fin_lev  lng_fin_lev  op_profit_mrgn      EPSP\n",
       "shrt_fin_lev        1.000000    -0.207909        0.035059  0.228640\n",
       "lng_fin_lev        -0.207909     1.000000        0.071937 -0.019351\n",
       "op_profit_mrgn      0.035059     0.071937        1.000000  0.026107\n",
       "EPSP                0.228640    -0.019351        0.026107  1.000000"
      ]
     },
     "execution_count": 108,
     "metadata": {},
     "output_type": "execute_result"
    }
   ],
   "source": [
    "X.corr() # uso la función de python para comparar y saber si está correcta"
   ]
  },
  {
   "cell_type": "markdown",
   "metadata": {},
   "source": [
    "## Matriz de varianza y covarianza"
   ]
  },
  {
   "cell_type": "markdown",
   "metadata": {},
   "source": [
    "La varianza mide la dispersión de los valores en un conjunto de datos determinado mientras que la covarianza mide como los cambios de 2 variables se asocian  "
   ]
  },
  {
   "cell_type": "code",
   "execution_count": 109,
   "metadata": {},
   "outputs": [
    {
     "data": {
      "text/html": [
       "<div>\n",
       "<style scoped>\n",
       "    .dataframe tbody tr th:only-of-type {\n",
       "        vertical-align: middle;\n",
       "    }\n",
       "\n",
       "    .dataframe tbody tr th {\n",
       "        vertical-align: top;\n",
       "    }\n",
       "\n",
       "    .dataframe thead th {\n",
       "        text-align: right;\n",
       "    }\n",
       "</style>\n",
       "<table border=\"1\" class=\"dataframe\">\n",
       "  <thead>\n",
       "    <tr style=\"text-align: right;\">\n",
       "      <th></th>\n",
       "      <th>shrt_fin_lev</th>\n",
       "      <th>lng_fin_lev</th>\n",
       "      <th>op_profit_mrgn</th>\n",
       "      <th>EPSP</th>\n",
       "    </tr>\n",
       "  </thead>\n",
       "  <tbody>\n",
       "    <tr>\n",
       "      <th>shrt_fin_lev</th>\n",
       "      <td>0.017706</td>\n",
       "      <td>-0.006849</td>\n",
       "      <td>0.309933</td>\n",
       "      <td>0.002933</td>\n",
       "    </tr>\n",
       "    <tr>\n",
       "      <th>lng_fin_lev</th>\n",
       "      <td>-0.006849</td>\n",
       "      <td>0.061297</td>\n",
       "      <td>1.183260</td>\n",
       "      <td>-0.000462</td>\n",
       "    </tr>\n",
       "    <tr>\n",
       "      <th>op_profit_mrgn</th>\n",
       "      <td>0.309933</td>\n",
       "      <td>1.183260</td>\n",
       "      <td>4413.850466</td>\n",
       "      <td>0.167222</td>\n",
       "    </tr>\n",
       "    <tr>\n",
       "      <th>EPSP</th>\n",
       "      <td>0.002933</td>\n",
       "      <td>-0.000462</td>\n",
       "      <td>0.167222</td>\n",
       "      <td>0.009295</td>\n",
       "    </tr>\n",
       "  </tbody>\n",
       "</table>\n",
       "</div>"
      ],
      "text/plain": [
       "                shrt_fin_lev  lng_fin_lev  op_profit_mrgn      EPSP\n",
       "shrt_fin_lev        0.017706    -0.006849        0.309933  0.002933\n",
       "lng_fin_lev        -0.006849     0.061297        1.183260 -0.000462\n",
       "op_profit_mrgn      0.309933     1.183260     4413.850466  0.167222\n",
       "EPSP                0.002933    -0.000462        0.167222  0.009295"
      ]
     },
     "execution_count": 109,
     "metadata": {},
     "output_type": "execute_result"
    }
   ],
   "source": [
    "N = len(X)\n",
    "uno = np.ones((len(X),1))\n",
    "x1 = X.T @ X\n",
    "x2 = X.T @ uno\n",
    "x3 = (X.T @ uno).T\n",
    "m = 1/N\n",
    "\n",
    "corr_matrix = (x1 - m * (x2 @ x3)) / (N-1)\n",
    "corr_matrix"
   ]
  },
  {
   "cell_type": "code",
   "execution_count": 110,
   "metadata": {},
   "outputs": [
    {
     "data": {
      "text/html": [
       "<div>\n",
       "<style scoped>\n",
       "    .dataframe tbody tr th:only-of-type {\n",
       "        vertical-align: middle;\n",
       "    }\n",
       "\n",
       "    .dataframe tbody tr th {\n",
       "        vertical-align: top;\n",
       "    }\n",
       "\n",
       "    .dataframe thead th {\n",
       "        text-align: right;\n",
       "    }\n",
       "</style>\n",
       "<table border=\"1\" class=\"dataframe\">\n",
       "  <thead>\n",
       "    <tr style=\"text-align: right;\">\n",
       "      <th></th>\n",
       "      <th>shrt_fin_lev</th>\n",
       "      <th>lng_fin_lev</th>\n",
       "      <th>op_profit_mrgn</th>\n",
       "      <th>EPSP</th>\n",
       "    </tr>\n",
       "  </thead>\n",
       "  <tbody>\n",
       "    <tr>\n",
       "      <th>shrt_fin_lev</th>\n",
       "      <td>0.017706</td>\n",
       "      <td>-0.006849</td>\n",
       "      <td>0.309933</td>\n",
       "      <td>0.002933</td>\n",
       "    </tr>\n",
       "    <tr>\n",
       "      <th>lng_fin_lev</th>\n",
       "      <td>-0.006849</td>\n",
       "      <td>0.061297</td>\n",
       "      <td>1.183260</td>\n",
       "      <td>-0.000462</td>\n",
       "    </tr>\n",
       "    <tr>\n",
       "      <th>op_profit_mrgn</th>\n",
       "      <td>0.309933</td>\n",
       "      <td>1.183260</td>\n",
       "      <td>4413.850466</td>\n",
       "      <td>0.167222</td>\n",
       "    </tr>\n",
       "    <tr>\n",
       "      <th>EPSP</th>\n",
       "      <td>0.002933</td>\n",
       "      <td>-0.000462</td>\n",
       "      <td>0.167222</td>\n",
       "      <td>0.009295</td>\n",
       "    </tr>\n",
       "  </tbody>\n",
       "</table>\n",
       "</div>"
      ],
      "text/plain": [
       "                shrt_fin_lev  lng_fin_lev  op_profit_mrgn      EPSP\n",
       "shrt_fin_lev        0.017706    -0.006849        0.309933  0.002933\n",
       "lng_fin_lev        -0.006849     0.061297        1.183260 -0.000462\n",
       "op_profit_mrgn      0.309933     1.183260     4413.850466  0.167222\n",
       "EPSP                0.002933    -0.000462        0.167222  0.009295"
      ]
     },
     "execution_count": 110,
     "metadata": {},
     "output_type": "execute_result"
    }
   ],
   "source": [
    "X.cov() # con la función de python comprobamos que la matriz es correcta"
   ]
  },
  {
   "cell_type": "markdown",
   "metadata": {},
   "source": [
    "Dentro de la matriz, sabemos que la diagonal representa las varianzas, mientras que los valores fuera de la diagonal son las covarianzas entre las variables"
   ]
  },
  {
   "cell_type": "markdown",
   "metadata": {},
   "source": [
    "## Multicolinealidad "
   ]
  },
  {
   "cell_type": "code",
   "execution_count": 111,
   "metadata": {},
   "outputs": [
    {
     "name": "stdout",
     "output_type": "stream",
     "text": [
      "          feature       VIF\n",
      "0    shrt_fin_lev  1.031416\n",
      "1     lng_fin_lev  1.031419\n",
      "2  op_profit_mrgn  1.000004\n"
     ]
    }
   ],
   "source": [
    "from statsmodels.stats.outliers_influence import variance_inflation_factor\n",
    "vif_data = pd.DataFrame()\n",
    "\n",
    "df_vif  = X[['shrt_fin_lev','lng_fin_lev','op_profit_mrgn']]\n",
    "\n",
    "vif_data[\"feature\"] = df_vif.columns\n",
    "\n",
    "# calculating VIF for each feature\n",
    "vif_data[\"VIF\"] = [variance_inflation_factor(df_vif.values, i)\n",
    "                          for i in range(len(df_vif.columns))]\n",
    "\n",
    "print(vif_data)"
   ]
  },
  {
   "cell_type": "markdown",
   "metadata": {},
   "source": [
    "'''\n",
    "CONSIDERANDO 5 COMO NUMERO UMBRAL PARA DEFINIR SI ELIMINAMOS ALGUNA VARIABLE NOTAMOS QUE NO HAY NINGUNA VARIABLE INDEPENDIENTE QUE SUPERE\n",
    "DICHO UMBRAL, POR LO TANTO PODEMOS ASEGURAR QUE NO HAY MULTICOLINEALIDAD, ES DECIR QUE NO HAY PARES DE VARIABLES INDEPENDIENTES CON UNA \n",
    "ALTA CORRELACIÓN\n",
    "'''"
   ]
  },
  {
   "cell_type": "code",
   "execution_count": 119,
   "metadata": {},
   "outputs": [],
   "source": [
    "x = X[['shrt_fin_lev','lng_fin_lev','op_profit_mrgn','EPSP']].to_numpy()\n",
    "y = X['R'].values\n",
    "y = y.values\n",
    "x= np.transpose(x)\n"
   ]
  },
  {
   "cell_type": "code",
   "execution_count": 120,
   "metadata": {},
   "outputs": [
    {
     "data": {
      "text/html": [
       "<div>\n",
       "<style scoped>\n",
       "    .dataframe tbody tr th:only-of-type {\n",
       "        vertical-align: middle;\n",
       "    }\n",
       "\n",
       "    .dataframe tbody tr th {\n",
       "        vertical-align: top;\n",
       "    }\n",
       "\n",
       "    .dataframe thead th {\n",
       "        text-align: right;\n",
       "    }\n",
       "</style>\n",
       "<table border=\"1\" class=\"dataframe\">\n",
       "  <thead>\n",
       "    <tr style=\"text-align: right;\">\n",
       "      <th></th>\n",
       "      <th>shrt_fin_lev</th>\n",
       "      <th>lng_fin_lev</th>\n",
       "      <th>op_profit_mrgn</th>\n",
       "      <th>EPSP</th>\n",
       "      <th>Ones</th>\n",
       "    </tr>\n",
       "  </thead>\n",
       "  <tbody>\n",
       "    <tr>\n",
       "      <th>2332</th>\n",
       "      <td>0.000000</td>\n",
       "      <td>0.000000</td>\n",
       "      <td>-1.280403</td>\n",
       "      <td>-0.017514</td>\n",
       "      <td>1</td>\n",
       "    </tr>\n",
       "    <tr>\n",
       "      <th>4132</th>\n",
       "      <td>0.024364</td>\n",
       "      <td>0.127927</td>\n",
       "      <td>0.826009</td>\n",
       "      <td>0.045438</td>\n",
       "      <td>1</td>\n",
       "    </tr>\n",
       "    <tr>\n",
       "      <th>4222</th>\n",
       "      <td>0.254991</td>\n",
       "      <td>0.003474</td>\n",
       "      <td>-0.629896</td>\n",
       "      <td>-0.349550</td>\n",
       "      <td>1</td>\n",
       "    </tr>\n",
       "    <tr>\n",
       "      <th>6202</th>\n",
       "      <td>0.001657</td>\n",
       "      <td>0.001792</td>\n",
       "      <td>-0.846998</td>\n",
       "      <td>-0.124212</td>\n",
       "      <td>1</td>\n",
       "    </tr>\n",
       "    <tr>\n",
       "      <th>7102</th>\n",
       "      <td>0.000000</td>\n",
       "      <td>0.218182</td>\n",
       "      <td>0.623220</td>\n",
       "      <td>0.026921</td>\n",
       "      <td>1</td>\n",
       "    </tr>\n",
       "  </tbody>\n",
       "</table>\n",
       "</div>"
      ],
      "text/plain": [
       "      shrt_fin_lev  lng_fin_lev  op_profit_mrgn      EPSP  Ones\n",
       "2332      0.000000     0.000000       -1.280403 -0.017514     1\n",
       "4132      0.024364     0.127927        0.826009  0.045438     1\n",
       "4222      0.254991     0.003474       -0.629896 -0.349550     1\n",
       "6202      0.001657     0.001792       -0.846998 -0.124212     1\n",
       "7102      0.000000     0.218182        0.623220  0.026921     1"
      ]
     },
     "execution_count": 120,
     "metadata": {},
     "output_type": "execute_result"
    }
   ],
   "source": [
    "X.head()"
   ]
  },
  {
   "cell_type": "code",
   "execution_count": 121,
   "metadata": {},
   "outputs": [],
   "source": [
    "X['Ones'] = 1\n",
    "x = X[['Ones','shrt_fin_lev','lng_fin_lev','op_profit_mrgn','EPSP']]\n",
    "xt = x.transpose()\n",
    "x2 = xt.dot(x)\n",
    "xinv = np.linalg.inv(x2)\n",
    "aux = np.dot(xinv, xt)"
   ]
  },
  {
   "cell_type": "markdown",
   "metadata": {},
   "source": [
    "## Model OLS"
   ]
  },
  {
   "cell_type": "code",
   "execution_count": 122,
   "metadata": {},
   "outputs": [
    {
     "name": "stdout",
     "output_type": "stream",
     "text": [
      "                            OLS Regression Results                            \n",
      "==============================================================================\n",
      "Dep. Variable:                      y   R-squared:                       0.071\n",
      "Model:                            OLS   Adj. R-squared:                  0.049\n",
      "Method:                 Least Squares   F-statistic:                     3.268\n",
      "Date:                Fri, 25 Nov 2022   Prob (F-statistic):             0.0130\n",
      "Time:                        22:07:13   Log-Likelihood:                -348.41\n",
      "No. Observations:                 176   AIC:                             706.8\n",
      "Df Residuals:                     171   BIC:                             722.7\n",
      "Df Model:                           4                                         \n",
      "Covariance Type:            nonrobust                                         \n",
      "==================================================================================\n",
      "                     coef    std err          t      P>|t|      [0.025      0.975]\n",
      "----------------------------------------------------------------------------------\n",
      "shrt_fin_lev      -2.5731      1.062     -2.424      0.016      -4.669      -0.477\n",
      "lng_fin_lev        0.1489      0.557      0.267      0.789      -0.950       1.248\n",
      "op_profit_mrgn     0.0042      0.002      2.065      0.040       0.000       0.008\n",
      "EPSP               2.9402      1.432      2.053      0.042       0.113       5.767\n",
      "Ones               0.2122      0.211      1.007      0.315      -0.204       0.628\n",
      "==============================================================================\n",
      "Omnibus:                        2.411   Durbin-Watson:                   2.021\n",
      "Prob(Omnibus):                  0.300   Jarque-Bera (JB):                2.435\n",
      "Skew:                          -0.278   Prob(JB):                        0.296\n",
      "Kurtosis:                       2.849   Cond. No.                         730.\n",
      "==============================================================================\n",
      "\n",
      "Notes:\n",
      "[1] Standard Errors assume that the covariance matrix of the errors is correctly specified.\n"
     ]
    }
   ],
   "source": [
    "import statsmodels.api as sm\n",
    "import statsmodels.formula.api as smf\n",
    "\n",
    "x = sm.add_constant(X)\n",
    "\n",
    "model_1 = sm.OLS(y, x).fit()\n",
    "print(model_1.summary())\n"
   ]
  },
  {
   "cell_type": "markdown",
   "metadata": {},
   "source": [
    "## Leverage points"
   ]
  },
  {
   "cell_type": "markdown",
   "metadata": {},
   "source": [
    "Para conocer los leverage points vamos a conseguir la Hat Matrix\n",
    "con la fórmula \n",
    "\n",
    "$ H = X(X'X)^{-1} X' $"
   ]
  },
  {
   "cell_type": "code",
   "execution_count": 123,
   "metadata": {},
   "outputs": [
    {
     "data": {
      "text/plain": [
       "<matplotlib.collections.PathCollection at 0x2093e427be0>"
      ]
     },
     "execution_count": 123,
     "metadata": {},
     "output_type": "execute_result"
    },
    {
     "data": {
      "image/png": "[encoded data removed]",
      "text/plain": [
       "<Figure size 432x288 with 1 Axes>"
      ]
     },
     "metadata": {
      "needs_background": "light"
     },
     "output_type": "display_data"
    }
   ],
   "source": [
    "H = x.dot(aux)\n",
    "leverage = np.diag(H)\n",
    "plt.scatter(leverage, y)"
   ]
  },
  {
   "cell_type": "code",
   "execution_count": 118,
   "metadata": {},
   "outputs": [
    {
     "data": {
      "text/html": [
       "<div>\n",
       "<style scoped>\n",
       "    .dataframe tbody tr th:only-of-type {\n",
       "        vertical-align: middle;\n",
       "    }\n",
       "\n",
       "    .dataframe tbody tr th {\n",
       "        vertical-align: top;\n",
       "    }\n",
       "\n",
       "    .dataframe thead th {\n",
       "        text-align: right;\n",
       "    }\n",
       "</style>\n",
       "<table border=\"1\" class=\"dataframe\">\n",
       "  <thead>\n",
       "    <tr style=\"text-align: right;\">\n",
       "      <th></th>\n",
       "      <th>leverage_points</th>\n",
       "    </tr>\n",
       "  </thead>\n",
       "  <tbody>\n",
       "    <tr>\n",
       "      <th>count</th>\n",
       "      <td>1.760000e+02</td>\n",
       "    </tr>\n",
       "    <tr>\n",
       "      <th>mean</th>\n",
       "      <td>6.686570e-17</td>\n",
       "    </tr>\n",
       "    <tr>\n",
       "      <th>std</th>\n",
       "      <td>9.444626e-02</td>\n",
       "    </tr>\n",
       "    <tr>\n",
       "      <th>min</th>\n",
       "      <td>-8.628134e-01</td>\n",
       "    </tr>\n",
       "    <tr>\n",
       "      <th>25%</th>\n",
       "      <td>-7.662282e-03</td>\n",
       "    </tr>\n",
       "    <tr>\n",
       "      <th>50%</th>\n",
       "      <td>1.093144e-03</td>\n",
       "    </tr>\n",
       "    <tr>\n",
       "      <th>75%</th>\n",
       "      <td>1.096509e-02</td>\n",
       "    </tr>\n",
       "    <tr>\n",
       "      <th>max</th>\n",
       "      <td>6.087558e-01</td>\n",
       "    </tr>\n",
       "  </tbody>\n",
       "</table>\n",
       "</div>"
      ],
      "text/plain": [
       "       leverage_points\n",
       "count     1.760000e+02\n",
       "mean      6.686570e-17\n",
       "std       9.444626e-02\n",
       "min      -8.628134e-01\n",
       "25%      -7.662282e-03\n",
       "50%       1.093144e-03\n",
       "75%       1.096509e-02\n",
       "max       6.087558e-01"
      ]
     },
     "execution_count": 118,
     "metadata": {},
     "output_type": "execute_result"
    }
   ],
   "source": [
    "leverage_points = pd.DataFrame(leverage)\n",
    "leverage_points.columns = ['leverage_points']\n",
    "leverage_points.describe()"
   ]
  },
  {
   "cell_type": "markdown",
   "metadata": {},
   "source": [
    "En la gráfica podemos ver que sí tenemos leverage points. \n",
    "Para saber si un leverage point debe ser considerado como tal, tiene que ser mayor al doble de la media. Siguiendo la siguiente operación podremos saber los leverage points altos\n",
    "\n",
    "$ (2k+2)/n $\n",
    "Donde k es el número de atributos y n el número de observaciones\n",
    "\n",
    "tenemos que $ (2*5+2)/176 = 0.05681818 $\n",
    "\n",
    "Entonces todo punto mayor a 0.05681818 es un high leverage"
   ]
  },
  {
   "cell_type": "code",
   "execution_count": null,
   "metadata": {},
   "outputs": [
    {
     "data": {
      "text/html": [
       "<div>\n",
       "<style scoped>\n",
       "    .dataframe tbody tr th:only-of-type {\n",
       "        vertical-align: middle;\n",
       "    }\n",
       "\n",
       "    .dataframe tbody tr th {\n",
       "        vertical-align: top;\n",
       "    }\n",
       "\n",
       "    .dataframe thead th {\n",
       "        text-align: right;\n",
       "    }\n",
       "</style>\n",
       "<table border=\"1\" class=\"dataframe\">\n",
       "  <thead>\n",
       "    <tr style=\"text-align: right;\">\n",
       "      <th></th>\n",
       "      <th>leverage_points</th>\n",
       "    </tr>\n",
       "  </thead>\n",
       "  <tbody>\n",
       "    <tr>\n",
       "      <th>count</th>\n",
       "      <td>163.000000</td>\n",
       "    </tr>\n",
       "    <tr>\n",
       "      <th>mean</th>\n",
       "      <td>0.014148</td>\n",
       "    </tr>\n",
       "    <tr>\n",
       "      <th>std</th>\n",
       "      <td>0.008746</td>\n",
       "    </tr>\n",
       "    <tr>\n",
       "      <th>min</th>\n",
       "      <td>0.005778</td>\n",
       "    </tr>\n",
       "    <tr>\n",
       "      <th>25%</th>\n",
       "      <td>0.007964</td>\n",
       "    </tr>\n",
       "    <tr>\n",
       "      <th>50%</th>\n",
       "      <td>0.011700</td>\n",
       "    </tr>\n",
       "    <tr>\n",
       "      <th>75%</th>\n",
       "      <td>0.014755</td>\n",
       "    </tr>\n",
       "    <tr>\n",
       "      <th>max</th>\n",
       "      <td>0.053468</td>\n",
       "    </tr>\n",
       "  </tbody>\n",
       "</table>\n",
       "</div>"
      ],
      "text/plain": [
       "       leverage_points\n",
       "count       163.000000\n",
       "mean          0.014148\n",
       "std           0.008746\n",
       "min           0.005778\n",
       "25%           0.007964\n",
       "50%           0.011700\n",
       "75%           0.014755\n",
       "max           0.053468"
      ]
     },
     "execution_count": 80,
     "metadata": {},
     "output_type": "execute_result"
    }
   ],
   "source": [
    "leverage_new = leverage_points[leverage_points['leverage_points'] <= 0.05681818]\n",
    "leverage_new.describe()"
   ]
  },
  {
   "cell_type": "markdown",
   "metadata": {},
   "source": [
    "## Outliers"
   ]
  },
  {
   "cell_type": "markdown",
   "metadata": {},
   "source": [
    "Para conocer los outliers, usaremos la funcion cook_distance de python y standarized residuals"
   ]
  },
  {
   "cell_type": "code",
   "execution_count": null,
   "metadata": {},
   "outputs": [
    {
     "data": {
      "text/html": [
       "<div>\n",
       "<style scoped>\n",
       "    .dataframe tbody tr th:only-of-type {\n",
       "        vertical-align: middle;\n",
       "    }\n",
       "\n",
       "    .dataframe tbody tr th {\n",
       "        vertical-align: top;\n",
       "    }\n",
       "\n",
       "    .dataframe thead th {\n",
       "        text-align: right;\n",
       "    }\n",
       "</style>\n",
       "<table border=\"1\" class=\"dataframe\">\n",
       "  <thead>\n",
       "    <tr style=\"text-align: right;\">\n",
       "      <th></th>\n",
       "      <th>0</th>\n",
       "    </tr>\n",
       "  </thead>\n",
       "  <tbody>\n",
       "    <tr>\n",
       "      <th>count</th>\n",
       "      <td>176.000000</td>\n",
       "    </tr>\n",
       "    <tr>\n",
       "      <th>mean</th>\n",
       "      <td>2.165642</td>\n",
       "    </tr>\n",
       "    <tr>\n",
       "      <th>std</th>\n",
       "      <td>28.783550</td>\n",
       "    </tr>\n",
       "    <tr>\n",
       "      <th>min</th>\n",
       "      <td>-0.445504</td>\n",
       "    </tr>\n",
       "    <tr>\n",
       "      <th>25%</th>\n",
       "      <td>-0.005787</td>\n",
       "    </tr>\n",
       "    <tr>\n",
       "      <th>50%</th>\n",
       "      <td>-0.002838</td>\n",
       "    </tr>\n",
       "    <tr>\n",
       "      <th>75%</th>\n",
       "      <td>-0.000193</td>\n",
       "    </tr>\n",
       "    <tr>\n",
       "      <th>max</th>\n",
       "      <td>381.852659</td>\n",
       "    </tr>\n",
       "  </tbody>\n",
       "</table>\n",
       "</div>"
      ],
      "text/plain": [
       "                0\n",
       "count  176.000000\n",
       "mean     2.165642\n",
       "std     28.783550\n",
       "min     -0.445504\n",
       "25%     -0.005787\n",
       "50%     -0.002838\n",
       "75%     -0.000193\n",
       "max    381.852659"
      ]
     },
     "execution_count": 81,
     "metadata": {},
     "output_type": "execute_result"
    }
   ],
   "source": [
    "influence = model_1.get_influence()\n",
    "std_res = influence.resid_studentized_internal\n",
    "\n",
    "\n",
    "\n",
    "std_res = pd.DataFrame(std_res)\n",
    "std_res.describe()\n"
   ]
  },
  {
   "cell_type": "markdown",
   "metadata": {},
   "source": [
    "Al usar este metodo, se considera como outlier aquellas observaciones cuyo valor absoluto sea mayor a 3 "
   ]
  },
  {
   "cell_type": "code",
   "execution_count": null,
   "metadata": {},
   "outputs": [
    {
     "data": {
      "text/html": [
       "<div>\n",
       "<style scoped>\n",
       "    .dataframe tbody tr th:only-of-type {\n",
       "        vertical-align: middle;\n",
       "    }\n",
       "\n",
       "    .dataframe tbody tr th {\n",
       "        vertical-align: top;\n",
       "    }\n",
       "\n",
       "    .dataframe thead th {\n",
       "        text-align: right;\n",
       "    }\n",
       "</style>\n",
       "<table border=\"1\" class=\"dataframe\">\n",
       "  <thead>\n",
       "    <tr style=\"text-align: right;\">\n",
       "      <th></th>\n",
       "      <th>0</th>\n",
       "    </tr>\n",
       "  </thead>\n",
       "  <tbody>\n",
       "    <tr>\n",
       "      <th>167</th>\n",
       "      <td>381.852659</td>\n",
       "    </tr>\n",
       "  </tbody>\n",
       "</table>\n",
       "</div>"
      ],
      "text/plain": [
       "              0\n",
       "167  381.852659"
      ]
     },
     "execution_count": 82,
     "metadata": {},
     "output_type": "execute_result"
    }
   ],
   "source": [
    "mask2 = abs(std_res[0]) >= 3\n",
    "outlier_res = std_res[mask2]\n",
    "outlier_res"
   ]
  },
  {
   "cell_type": "code",
   "execution_count": 124,
   "metadata": {},
   "outputs": [],
   "source": [
    "influence = model_1.get_influence()\n",
    "inf_sum = influence.summary_frame()\n",
    "\n",
    "#print(inf_sum.head())\n",
    "\n",
    "student_resid = influence.resid_studentized_external\n",
    "(cooks, p) = influence.cooks_distance\n",
    "(dffits, p) = influence.dffits\n",
    "leverage = influence.hat_matrix_diag"
   ]
  },
  {
   "cell_type": "code",
   "execution_count": 125,
   "metadata": {},
   "outputs": [
    {
     "data": {
      "text/html": [
       "<div>\n",
       "<style scoped>\n",
       "    .dataframe tbody tr th:only-of-type {\n",
       "        vertical-align: middle;\n",
       "    }\n",
       "\n",
       "    .dataframe tbody tr th {\n",
       "        vertical-align: top;\n",
       "    }\n",
       "\n",
       "    .dataframe thead th {\n",
       "        text-align: right;\n",
       "    }\n",
       "</style>\n",
       "<table border=\"1\" class=\"dataframe\">\n",
       "  <thead>\n",
       "    <tr style=\"text-align: right;\">\n",
       "      <th></th>\n",
       "      <th>0</th>\n",
       "    </tr>\n",
       "  </thead>\n",
       "  <tbody>\n",
       "    <tr>\n",
       "      <th>count</th>\n",
       "      <td>1.760000e+02</td>\n",
       "    </tr>\n",
       "    <tr>\n",
       "      <th>mean</th>\n",
       "      <td>6.215927e-01</td>\n",
       "    </tr>\n",
       "    <tr>\n",
       "      <th>std</th>\n",
       "      <td>7.969405e+00</td>\n",
       "    </tr>\n",
       "    <tr>\n",
       "      <th>min</th>\n",
       "      <td>1.159017e-08</td>\n",
       "    </tr>\n",
       "    <tr>\n",
       "      <th>25%</th>\n",
       "      <td>2.487879e-04</td>\n",
       "    </tr>\n",
       "    <tr>\n",
       "      <th>50%</th>\n",
       "      <td>1.442729e-03</td>\n",
       "    </tr>\n",
       "    <tr>\n",
       "      <th>75%</th>\n",
       "      <td>4.383323e-03</td>\n",
       "    </tr>\n",
       "    <tr>\n",
       "      <th>max</th>\n",
       "      <td>1.057056e+02</td>\n",
       "    </tr>\n",
       "  </tbody>\n",
       "</table>\n",
       "</div>"
      ],
      "text/plain": [
       "                  0\n",
       "count  1.760000e+02\n",
       "mean   6.215927e-01\n",
       "std    7.969405e+00\n",
       "min    1.159017e-08\n",
       "25%    2.487879e-04\n",
       "50%    1.442729e-03\n",
       "75%    4.383323e-03\n",
       "max    1.057056e+02"
      ]
     },
     "execution_count": 125,
     "metadata": {},
     "output_type": "execute_result"
    }
   ],
   "source": [
    "cooks = pd.DataFrame(cooks)\n",
    "cooks.describe() # datos 3 veces mayores a la media "
   ]
  },
  {
   "cell_type": "markdown",
   "metadata": {},
   "source": [
    "Con cook_distance sabemos que una observacion es un outlier si tiene un valor mayor a la media multiplicada por 3"
   ]
  },
  {
   "cell_type": "code",
   "execution_count": 126,
   "metadata": {},
   "outputs": [
    {
     "data": {
      "text/html": [
       "<div>\n",
       "<style scoped>\n",
       "    .dataframe tbody tr th:only-of-type {\n",
       "        vertical-align: middle;\n",
       "    }\n",
       "\n",
       "    .dataframe tbody tr th {\n",
       "        vertical-align: top;\n",
       "    }\n",
       "\n",
       "    .dataframe thead th {\n",
       "        text-align: right;\n",
       "    }\n",
       "</style>\n",
       "<table border=\"1\" class=\"dataframe\">\n",
       "  <thead>\n",
       "    <tr style=\"text-align: right;\">\n",
       "      <th></th>\n",
       "      <th>0</th>\n",
       "    </tr>\n",
       "  </thead>\n",
       "  <tbody>\n",
       "    <tr>\n",
       "      <th>75</th>\n",
       "      <td>2.966143</td>\n",
       "    </tr>\n",
       "    <tr>\n",
       "      <th>167</th>\n",
       "      <td>105.705648</td>\n",
       "    </tr>\n",
       "  </tbody>\n",
       "</table>\n",
       "</div>"
      ],
      "text/plain": [
       "              0\n",
       "75     2.966143\n",
       "167  105.705648"
      ]
     },
     "execution_count": 126,
     "metadata": {},
     "output_type": "execute_result"
    }
   ],
   "source": [
    "mask1 = abs(cooks[0]) > cooks[0].mean()*3\n",
    "outlier_cooks = cooks[mask1]\n",
    "outlier_cooks"
   ]
  },
  {
   "cell_type": "code",
   "execution_count": 127,
   "metadata": {},
   "outputs": [],
   "source": [
    "# Juntamos los leverage points con los ouliers encontrados\n",
    "influential_val = pd.merge(leverage_points, outlier_cooks, left_index=True, right_index=True)\n",
    "influential_val = pd.merge(influential_val, outlier_res, left_index=True, right_index=True)"
   ]
  },
  {
   "cell_type": "markdown",
   "metadata": {},
   "source": [
    "Ahora ya tengo todos los valores influenciables, los cuales eliminaremos mas adelante y generaremos un nuevo modelo sin ellos"
   ]
  },
  {
   "cell_type": "markdown",
   "metadata": {},
   "source": [
    "## Modelo con algebra matricial\n",
    "#### Estimacion de coeficientes beta"
   ]
  },
  {
   "cell_type": "code",
   "execution_count": 128,
   "metadata": {},
   "outputs": [
    {
     "name": "stdout",
     "output_type": "stream",
     "text": [
      "0   -2.573057\n",
      "1    0.148916\n",
      "2    0.004193\n",
      "3    2.940199\n",
      "4    0.212216\n",
      "dtype: float64\n"
     ]
    }
   ],
   "source": [
    "X['Ones'] = 1                \n",
    "\n",
    "X_trans = X.T                 \n",
    "X_aux = X_trans @ X           \n",
    "X_inv = np.linalg.inv(X_aux)  \n",
    "X_again = X_inv @ X_trans     \n",
    "Betas = X_again @ y           \n",
    "print(Betas)"
   ]
  },
  {
   "cell_type": "markdown",
   "metadata": {},
   "source": [
    "## Estimación de errores estándar"
   ]
  },
  {
   "cell_type": "markdown",
   "metadata": {},
   "source": [
    "Usamos la fórmula del mean square error"
   ]
  },
  {
   "cell_type": "code",
   "execution_count": 129,
   "metadata": {},
   "outputs": [
    {
     "data": {
      "text/plain": [
       "3.068869731647362"
      ]
     },
     "execution_count": 129,
     "metadata": {},
     "output_type": "execute_result"
    }
   ],
   "source": [
    "# predicciones\n",
    "y_pred = sum((Betas.to_numpy() * X.to_numpy()).T)\n",
    "\n",
    "# formula del mean square error\n",
    "error = sum((y - y_pred)**2) / len(y)\n",
    "error"
   ]
  },
  {
   "cell_type": "markdown",
   "metadata": {},
   "source": [
    "## Modelo2 , sin valores influenciables"
   ]
  },
  {
   "cell_type": "code",
   "execution_count": null,
   "metadata": {},
   "outputs": [],
   "source": [
    "# para evitar que el comportamiento del modelo se vea afectado por los puntos \n",
    "# influenciables, tenemos que quitar dichos puntos \n",
    "X2 = X.copy()\n",
    "y2 = y.copy()\n",
    "\n",
    "X2 = X2.drop(influential_val.index)\n",
    "y2 = y2.drop(influential_val.index)"
   ]
  },
  {
   "cell_type": "code",
   "execution_count": 131,
   "metadata": {},
   "outputs": [
    {
     "data": {
      "text/html": [
       "<div>\n",
       "<style scoped>\n",
       "    .dataframe tbody tr th:only-of-type {\n",
       "        vertical-align: middle;\n",
       "    }\n",
       "\n",
       "    .dataframe tbody tr th {\n",
       "        vertical-align: top;\n",
       "    }\n",
       "\n",
       "    .dataframe thead th {\n",
       "        text-align: right;\n",
       "    }\n",
       "</style>\n",
       "<table border=\"1\" class=\"dataframe\">\n",
       "  <thead>\n",
       "    <tr style=\"text-align: right;\">\n",
       "      <th></th>\n",
       "      <th>shrt_fin_lev</th>\n",
       "      <th>lng_fin_lev</th>\n",
       "      <th>op_profit_mrgn</th>\n",
       "      <th>EPSP</th>\n",
       "      <th>Ones</th>\n",
       "    </tr>\n",
       "  </thead>\n",
       "  <tbody>\n",
       "    <tr>\n",
       "      <th>2332</th>\n",
       "      <td>0.000000</td>\n",
       "      <td>0.000000</td>\n",
       "      <td>-1.280403</td>\n",
       "      <td>-0.017514</td>\n",
       "      <td>1</td>\n",
       "    </tr>\n",
       "    <tr>\n",
       "      <th>4132</th>\n",
       "      <td>0.024364</td>\n",
       "      <td>0.127927</td>\n",
       "      <td>0.826009</td>\n",
       "      <td>0.045438</td>\n",
       "      <td>1</td>\n",
       "    </tr>\n",
       "    <tr>\n",
       "      <th>4222</th>\n",
       "      <td>0.254991</td>\n",
       "      <td>0.003474</td>\n",
       "      <td>-0.629896</td>\n",
       "      <td>-0.349550</td>\n",
       "      <td>1</td>\n",
       "    </tr>\n",
       "    <tr>\n",
       "      <th>6202</th>\n",
       "      <td>0.001657</td>\n",
       "      <td>0.001792</td>\n",
       "      <td>-0.846998</td>\n",
       "      <td>-0.124212</td>\n",
       "      <td>1</td>\n",
       "    </tr>\n",
       "    <tr>\n",
       "      <th>7102</th>\n",
       "      <td>0.000000</td>\n",
       "      <td>0.218182</td>\n",
       "      <td>0.623220</td>\n",
       "      <td>0.026921</td>\n",
       "      <td>1</td>\n",
       "    </tr>\n",
       "    <tr>\n",
       "      <th>...</th>\n",
       "      <td>...</td>\n",
       "      <td>...</td>\n",
       "      <td>...</td>\n",
       "      <td>...</td>\n",
       "      <td>...</td>\n",
       "    </tr>\n",
       "    <tr>\n",
       "      <th>311664</th>\n",
       "      <td>0.000000</td>\n",
       "      <td>0.000000</td>\n",
       "      <td>0.301759</td>\n",
       "      <td>0.016728</td>\n",
       "      <td>1</td>\n",
       "    </tr>\n",
       "    <tr>\n",
       "      <th>312564</th>\n",
       "      <td>0.000244</td>\n",
       "      <td>0.319127</td>\n",
       "      <td>0.225717</td>\n",
       "      <td>-0.011925</td>\n",
       "      <td>1</td>\n",
       "    </tr>\n",
       "    <tr>\n",
       "      <th>313194</th>\n",
       "      <td>0.000000</td>\n",
       "      <td>0.033851</td>\n",
       "      <td>0.024105</td>\n",
       "      <td>0.000380</td>\n",
       "      <td>1</td>\n",
       "    </tr>\n",
       "    <tr>\n",
       "      <th>318504</th>\n",
       "      <td>0.000000</td>\n",
       "      <td>0.295221</td>\n",
       "      <td>0.431877</td>\n",
       "      <td>0.027257</td>\n",
       "      <td>1</td>\n",
       "    </tr>\n",
       "    <tr>\n",
       "      <th>319134</th>\n",
       "      <td>0.028656</td>\n",
       "      <td>0.258356</td>\n",
       "      <td>-0.346404</td>\n",
       "      <td>-0.119578</td>\n",
       "      <td>1</td>\n",
       "    </tr>\n",
       "  </tbody>\n",
       "</table>\n",
       "<p>176 rows × 5 columns</p>\n",
       "</div>"
      ],
      "text/plain": [
       "        shrt_fin_lev  lng_fin_lev  op_profit_mrgn      EPSP  Ones\n",
       "2332        0.000000     0.000000       -1.280403 -0.017514     1\n",
       "4132        0.024364     0.127927        0.826009  0.045438     1\n",
       "4222        0.254991     0.003474       -0.629896 -0.349550     1\n",
       "6202        0.001657     0.001792       -0.846998 -0.124212     1\n",
       "7102        0.000000     0.218182        0.623220  0.026921     1\n",
       "...              ...          ...             ...       ...   ...\n",
       "311664      0.000000     0.000000        0.301759  0.016728     1\n",
       "312564      0.000244     0.319127        0.225717 -0.011925     1\n",
       "313194      0.000000     0.033851        0.024105  0.000380     1\n",
       "318504      0.000000     0.295221        0.431877  0.027257     1\n",
       "319134      0.028656     0.258356       -0.346404 -0.119578     1\n",
       "\n",
       "[176 rows x 5 columns]"
      ]
     },
     "execution_count": 131,
     "metadata": {},
     "output_type": "execute_result"
    }
   ],
   "source": [
    "X2"
   ]
  },
  {
   "cell_type": "code",
   "execution_count": 132,
   "metadata": {},
   "outputs": [
    {
     "name": "stdout",
     "output_type": "stream",
     "text": [
      "                            OLS Regression Results                            \n",
      "==============================================================================\n",
      "Dep. Variable:                      y   R-squared:                       0.071\n",
      "Model:                            OLS   Adj. R-squared:                  0.049\n",
      "Method:                 Least Squares   F-statistic:                     3.268\n",
      "Date:                Fri, 25 Nov 2022   Prob (F-statistic):             0.0130\n",
      "Time:                        22:08:57   Log-Likelihood:                -348.41\n",
      "No. Observations:                 176   AIC:                             706.8\n",
      "Df Residuals:                     171   BIC:                             722.7\n",
      "Df Model:                           4                                         \n",
      "Covariance Type:            nonrobust                                         \n",
      "==================================================================================\n",
      "                     coef    std err          t      P>|t|      [0.025      0.975]\n",
      "----------------------------------------------------------------------------------\n",
      "shrt_fin_lev      -2.5731      1.062     -2.424      0.016      -4.669      -0.477\n",
      "lng_fin_lev        0.1489      0.557      0.267      0.789      -0.950       1.248\n",
      "op_profit_mrgn     0.0042      0.002      2.065      0.040       0.000       0.008\n",
      "EPSP               2.9402      1.432      2.053      0.042       0.113       5.767\n",
      "Ones               0.2122      0.211      1.007      0.315      -0.204       0.628\n",
      "==============================================================================\n",
      "Omnibus:                        2.411   Durbin-Watson:                   2.021\n",
      "Prob(Omnibus):                  0.300   Jarque-Bera (JB):                2.435\n",
      "Skew:                          -0.278   Prob(JB):                        0.296\n",
      "Kurtosis:                       2.849   Cond. No.                         730.\n",
      "==============================================================================\n",
      "\n",
      "Notes:\n",
      "[1] Standard Errors assume that the covariance matrix of the errors is correctly specified.\n"
     ]
    }
   ],
   "source": [
    "# generamos el nuevo modelo sin puntos influenciables\n",
    "model2 = sm.OLS(y2, sm.add_constant(X2)).fit()\n",
    "print_model2 = model2.summary()\n",
    "print(print_model2)"
   ]
  },
  {
   "cell_type": "code",
   "execution_count": 133,
   "metadata": {},
   "outputs": [
    {
     "name": "stdout",
     "output_type": "stream",
     "text": [
      "0   -2.573057\n",
      "1    0.148916\n",
      "2    0.004193\n",
      "3    2.940199\n",
      "4    0.212216\n",
      "dtype: float64\n"
     ]
    }
   ],
   "source": [
    "#Calculamos de nuevo las betas\n",
    "Xnew_trans = X2.T             \n",
    "Xnew_aux = Xnew_trans @ X2    \n",
    "X_inv = np.linalg.inv(Xnew_aux)  \n",
    "X_again = X_inv @ Xnew_trans     \n",
    "Betas = X_again @ y2       \n",
    "print(Betas)"
   ]
  },
  {
   "cell_type": "markdown",
   "metadata": {},
   "source": [
    "Los coeficientes de las betas obtenidos coinciden con los obtenidos en el modelo generado con python. entonces sabemos que el calculo fue correcto"
   ]
  }
 ],
 "metadata": {
  "kernelspec": {
   "display_name": "Python 3.10.2 64-bit",
   "language": "python",
   "name": "python3"
  },
  "language_info": {
   "codemirror_mode": {
    "name": "ipython",
    "version": 3
   },
   "file_extension": ".py",
   "mimetype": "text/x-python",
   "name": "python",
   "nbconvert_exporter": "python",
   "pygments_lexer": "ipython3",
   "version": "3.10.2"
  },
  "orig_nbformat": 4,
  "vscode": {
   "interpreter": {
    "hash": "94fd35bdfbdadf0cce7f7ebd34d4304e9f552af4e7bb7e536a3d4281b53fd810"
   }
  }
 },
 "nbformat": 4,
 "nbformat_minor": 2
}
